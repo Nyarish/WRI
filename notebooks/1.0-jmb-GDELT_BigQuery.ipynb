{
 "cells": [
  {
   "cell_type": "markdown",
   "metadata": {},
   "source": [
    "# GDELT Pilot\n",
    "### John Brandt\n",
    "\n",
    "## Data Acquisition with BigQuery"
   ]
  },
  {
   "cell_type": "code",
   "execution_count": 1,
   "metadata": {},
   "outputs": [],
   "source": [
    "import pandas as pd\n",
    "import os"
   ]
  },
  {
   "cell_type": "code",
   "execution_count": null,
   "metadata": {},
   "outputs": [],
   "source": [
    "from google.cloud import bigquery\n",
    "client = bigquery.Client()\n",
    "\n",
    "query = (\n",
    "    \n",
    "    \"SELECT SourceCommonName, Amounts, V2Locations, V2Organizations, V2Themes FROM [gdelt-bq:gdeltv2.gkg@-604800000-] \"\n",
    "    'WHERE Amounts LIKE \"%trees%\"'\n",
    "    'AND Amounts LIKE \"%planted%\"'\n",
    ")\n",
    "query_job = client.query(\n",
    "    query,\n",
    "    location=\"US\",\n",
    ")\n",
    "\n",
    "for row in query_job:  # API request - fetches results\n",
    "    # Row values can be accessed by field name or index\n",
    "    assert row[0] == row.name == row[\"name\"]\n",
    "    print(row)"
   ]
  },
  {
   "cell_type": "markdown",
   "metadata": {},
   "source": [
    "## Load in data\n",
    "\n",
    "Because each BigQuery call costs about \\$0.25 USD, I will load in a CSV during each jupyter session. This notebook currently works with weekly references to tree plantings, but will be functionalized to work with other event detections in the future."
   ]
  },
  {
   "cell_type": "code",
   "execution_count": 2,
   "metadata": {},
   "outputs": [],
   "source": [
    "files = os.listdir(\"../data/external\")\n",
    "data = pd.read_csv(\"../data/external/\" + files[2])"
   ]
  },
  {
   "cell_type": "markdown",
   "metadata": {},
   "source": [
    "## Locating events"
   ]
  },
  {
   "cell_type": "markdown",
   "metadata": {},
   "source": [
    "In order to tie events to locations and organizations, we assign the location most closely referenced to the event in the text. \n",
    "\n",
    "For each event detected, create a dictionary of the form {index : (number, action)}. This will be matched with a similar location dictionary of the form {index : location} with a grid search."
   ]
  },
  {
   "cell_type": "code",
   "execution_count": 7,
   "metadata": {
    "scrolled": true
   },
   "outputs": [
    {
     "name": "stdout",
     "output_type": "stream",
     "text": [
      "\n",
      "Data point 125\n",
      "dict_keys(['782', '60', '586', '2614', '3458'])\n",
      "{2661: (6, 'plants between the streets')}\n",
      "\n",
      "Data point 126\n",
      "dict_keys(['1473'])\n",
      "{1513: (6, 'plants between the streets')}\n",
      "\n",
      "Data point 127\n",
      "dict_keys(['332', '61', '146'])\n",
      "{73: (1000000000, 'tree'), 88: (1000000000, 'tree will Be planted')}\n",
      "\n",
      "Data point 128\n",
      "dict_keys(['nan'])\n",
      "{70: (2, 'trees fact')}\n",
      "\n",
      "Data point 129\n",
      "dict_keys(['2076', '121', '327', '639', '1507', '2105', '2091', '316', '628', '2066'])\n",
      "{1206: (1000000000, 'trees will planted')}\n",
      "\n",
      "Data point 130\n",
      "dict_keys(['nan'])\n",
      "{696: (2, 'places where the streets')}\n",
      "\n",
      "Data point 131\n",
      "dict_keys(['1222', '215', '506', '552', '51', '244', '447', '850', '879', '1663', '1825', '842', '1817'])\n",
      "{1900: (2, 'trees planted into Her')}\n",
      "\n",
      "Data point 132\n",
      "dict_keys(['1405', '1433', '1555', '1090'])\n",
      "{1295: (200, 'children planted trees')}\n",
      "\n",
      "Data point 133\n",
      "dict_keys(['nan'])\n",
      "{1016: (5, 'lakh trees planted'), 1881: (10, 'cr LED street lights')}\n",
      "\n",
      "Data point 134\n",
      "dict_keys(['31', '191', '721', '807', '831', '1134', '1265', '4348', '38', '198', '728', '781', '814', '838', '1141', '1272', '4355'])\n",
      "{1990: (9, 'm car way street'), 2196: (14, 'm car way street'), 2265: (14, 'm car way street')}\n",
      "\n",
      "Data point 135\n",
      "dict_keys(['300', '1480', '384', '1581', '452', '323'])\n",
      "{87: (2000000000000, 'additional trees'), 675: (3000000000000, 'trees on Earth #x2014'), 890: (3000000000000, 'trees'), 950: (1000000000000, 'trees'), 1213: (15000000000, 'trees across the globe')}\n",
      "\n",
      "Data point 136\n",
      "dict_keys(['6607', '11698', '16350', '18393', '5189', '22753', '9083', '19290', '15535', '15696', '16842', '20370', '22327', '14977', '15915', '910', '1096', '917', '1103', '4384', '6477', '9090', '15026', '17668', '19297', '13424'])\n",
      "{1771: (1000000, 'odd tree there fish')}\n",
      "\n",
      "Data point 137\n",
      "dict_keys(['105', '169'])\n",
      "{58: (1000000, 'trees would be planted')}\n",
      "\n",
      "Data point 138\n",
      "dict_keys(['2400', '51', '127', '332', '538', '649', '1210', '1504', '1921', '2053', '2748', '2895', '3216', '3351', '3647', '3769', '4041', '3188', '3469', '4080', '4071', '1669'])\n",
      "{2305: (3, 'night at Corner streets')}\n",
      "\n",
      "Data point 139\n",
      "dict_keys(['2450', '29', '314', '417', '614', '819', '1025', '1136', '1554', '1971', '2103', '2798', '2945', '3266', '3401', '3697', '3819', '4091', '166', '389', '3238', '3519', '4130', '4121', '1719'])\n",
      "{2324: (3, 'night at Corner streets')}\n",
      "\n",
      "Data point 140\n",
      "dict_keys(['2900', '8', '325', '428', '625', '830', '1036', '1147', '1708', '2004', '2421', '2553', '3248', '3395', '3716', '3851', '177', '400', '3688', '3969', '2169'])\n",
      "{2684: (3, 'night at Corner streets')}\n",
      "\n",
      "Data point 141\n",
      "dict_keys(['207', '1167', '1659'])\n",
      "{5: (3, 'Hundred New trees planted')}\n",
      "\n",
      "Data point 142\n",
      "dict_keys(['215', '1175', '1667'])\n",
      "{11: (3, 'Hundred New trees planted')}\n",
      "\n",
      "Data point 143\n",
      "dict_keys(['3722', '333', '2132', '2332', '2434', '116', '296', '2394', '2784', '129', '309', '346', '2145', '2345', '2407', '2447', '2797', '3621', '3735', '3918'])\n",
      "{1616: (10, 'blocks of trees were')}\n",
      "\n",
      "Data point 144\n",
      "dict_keys(['3859', '460', '2261', '2461', '2563', '243', '423', '2523', '2913', '256', '436', '473', '2274', '2474', '2536', '2576', '2926', '3752', '3872', '4055', '4077', '4102', '4743', '4425'])\n",
      "{1732: (10, 'blocks of trees were')}\n",
      "\n",
      "Data point 145\n",
      "dict_keys(['227', '322', '498', '854', '1408', '2042', '2060', '2238', '3129', '2090', '2305', '3141', '2167'])\n",
      "{3060: (22, 'trees were removed'), 3103: (715, 'trees were planted')}\n",
      "\n",
      "Data point 146\n",
      "dict_keys(['206', '61'])\n",
      "{1591: (200, 'trees have been planted')}\n",
      "\n",
      "Data point 147\n",
      "dict_keys(['310', '1316', '98', '132', '330', '975', '1783'])\n",
      "{1603: (38, 'on the streets of')}\n",
      "\n",
      "Data point 148\n",
      "dict_keys(['70', '706'])\n",
      "{3511: (735, 'trees of which 3'), 3528: (635, 'trees will be planted')}\n",
      "\n",
      "Data point 149\n",
      "dict_keys(['69', '118', '791', '666', '758', '722', '79', '128', '832', '1043', '1135'])\n",
      "{319: (3000000000000, 'trees')}\n"
     ]
    }
   ],
   "source": [
    "for i in range(125, 150):                                    # Loop through each entry\n",
    "    print(\"\\nData point {}\".format(i))\n",
    "    amount = data.iloc[i, 1]\n",
    "    locs = [x for x in str(data.iloc[i, 2]).split(\";\")]\n",
    "    refs = ([x for x in amount.split(\";\") if \"tree\" in x])   # Split up the references into value, action, index\n",
    "    values, actions, indexes = [], [], []\n",
    "    # Parse into separate lists\n",
    "    # Generate key, (number, action) dictionary for each entry\n",
    "    for ref in refs:                                       \n",
    "        parsed = ref.split(\",\")\n",
    "        values.append(int(parsed[0]))\n",
    "        actions.append(parsed[1])\n",
    "        indexes.append(int(parsed[2]))\n",
    "    refs = dict(zip(indexes, zip(values, actions)))        # {index: (number, action)}\n",
    "    locs_dict = {}\n",
    "    # Generate key, value pair for each location in each entry\n",
    "    for loc in locs:\n",
    "        dict_i = {}\n",
    "        locs_dict.update( { loc.split(\"#\")[-1] : loc.split(\"#\")[:-1] }) # {index : location}\n",
    "    # TODO: Implement proposed matching system for ref, loc"
   ]
  },
  {
   "cell_type": "code",
   "execution_count": null,
   "metadata": {},
   "outputs": [],
   "source": [
    "# TODO: Implement summary statistics of matched ref, loc\n",
    "# TODO: Geocode proposed loc\n",
    "# TODO: Event isolation / deduplication\n",
    "# TODO: Develop SVM / RandomForests classifier for (False positive / Planned / Implemented)\n",
    "# TODO: Port to REST API\n",
    "# TODO: Attache confidence to each point (define an algorithm)\n",
    "# TODO: Export to leaflet dashboard"
   ]
  },
  {
   "cell_type": "markdown",
   "metadata": {},
   "source": [
    "## Identifying patterns in themes"
   ]
  },
  {
   "cell_type": "code",
   "execution_count": 8,
   "metadata": {},
   "outputs": [],
   "source": [
    "# FIXME: Move to new notebook\n",
    "# ???: Country\n",
    "# TODO: Isolate references to restoration interventions\n",
    "# TODO: Mine relationships"
   ]
  },
  {
   "cell_type": "markdown",
   "metadata": {},
   "source": [
    "## Identifying important actors and oroganizations in restoration"
   ]
  },
  {
   "cell_type": "code",
   "execution_count": null,
   "metadata": {},
   "outputs": [],
   "source": [
    "# FIXME: Movoe to new notebook\n",
    "# TODO: Develop network of restoration actors by intervention\n",
    "# ???: Country"
   ]
  }
 ],
 "metadata": {
  "kernelspec": {
   "display_name": "Python 3",
   "language": "python",
   "name": "python3"
  },
  "language_info": {
   "codemirror_mode": {
    "name": "ipython",
    "version": 3
   },
   "file_extension": ".py",
   "mimetype": "text/x-python",
   "name": "python",
   "nbconvert_exporter": "python",
   "pygments_lexer": "ipython3",
   "version": "3.6.8"
  }
 },
 "nbformat": 4,
 "nbformat_minor": 2
}
