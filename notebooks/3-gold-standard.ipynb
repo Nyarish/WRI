{
 "cells": [
  {
   "cell_type": "code",
   "execution_count": 10,
   "metadata": {},
   "outputs": [],
   "source": [
    "from newsplease import NewsPlease\n",
    "import pandas as pd\n",
    "import nltk\n",
    "from tqdm import tnrange\n",
    "import re\n",
    "import os\n",
    "import pickle"
   ]
  },
  {
   "cell_type": "code",
   "execution_count": null,
   "metadata": {},
   "outputs": [],
   "source": []
  },
  {
   "cell_type": "code",
   "execution_count": 11,
   "metadata": {},
   "outputs": [],
   "source": [
    "def load_obj(name):\n",
    "    'Helper function using pickle to save and load objects'\n",
    "    with open(\"text/12/\" + name, \"rb\") as f:\n",
    "        return pickle.load(f)\n",
    "    \n",
    "files = [x for x in os.listdir(\"text/12\") if \".DS\" not in x]"
   ]
  },
  {
   "cell_type": "code",
   "execution_count": 100,
   "metadata": {
    "scrolled": true
   },
   "outputs": [
    {
     "name": "stdout",
     "output_type": "stream",
     "text": [
      "500\tProtesters Became Violent After Police Lathicharge: BJP MP On Bulandshahr\n",
      "501\tHopes of evacuating trapped miners raised as more resources are being deployed\n",
      "502\tHyderabad: Downpour exposes poor road quality\n",
      "503\tMeghalaya mine tragedy: Hope for survival of trapped miners rises as team of Indian Navy divers leaves for rescue operation\n",
      "504\tVideo: Agusta middleman extradited to India, CBI takes custody\n",
      "505\tRs 3,719 cr assistance given to Kerala, Nagaland, Andhra\n",
      "506\tJayalalithaa did not wish to travel abroad for treatment: TN Health Secy\n",
      "507\tJacksonville police shoot and kill suspect at Motel 6\n",
      "508\tBulandshahr killings: UP police arrests main accused Prashant Natt, says he has confessed to killing Inspector\n",
      "509\tIndian Railways bags 17 energy conservation awards\n"
     ]
    }
   ],
   "source": [
    "for x in range(500, 510):\n",
    "    title = load_obj(files[x]).title\n",
    "    print(str(x) + \"\\t\" + str(title))\n",
    "    \n",
    "# cow, cattle,\n",
    "    \n",
    "positive = [3, 38, 9, 15, 16, 18, 23, 25, 28, 30, 40, 44, 45, 50, 58, 59, 63,\n",
    "            65, 70, 78, 80, 85, 95, 109, 117, 118, 121, 128, 138, 141, 150, 156, 166, 167,\n",
    "            180, 191, 192, 199, 209, 217, 227, 229, 231, 232, 235, 243, 248, 250, 255, 258,\n",
    "            285, 286, 293, 294,  304, 307, 310, 331, 337, 339, 350, 353,\n",
    "            357, 362, 374,  378, 381,  387,  388, 392, 395, 406, 455, 487, 489, 491,\n",
    "           495]\n",
    "\n",
    "check = [351, 385, 390, 398, 410, 425, 444, 445, 448, 458, 482, ]"
   ]
  },
  {
   "cell_type": "code",
   "execution_count": 98,
   "metadata": {},
   "outputs": [
    {
     "data": {
      "text/plain": [
       "['Police suspect foul play in Bulandshahr mob fury',\n",
       " 'Pala asks Centre to legalise rat-hole mining in state',\n",
       " 'Bulandshahr violence: Sister says Subodh Kumar killed for probing Akhlaq lynching',\n",
       " 'Tens of thousands march against agrarian crisis',\n",
       " 'Indian Farmers Display Skulls Of Colleagues Who Have Commited Suicide, During Protests In New Dehli',\n",
       " 'Two onion-growers kill self in Nashik',\n",
       " \"At least 13 miners feared trapped inside illegal 'rat mine' in Meghalaya's Jaintia Hills\",\n",
       " 'Coast Guard arrests 14 illegal sand miners from West Bengal, seizes 2 boats',\n",
       " '13 Miners Feared Dead in Flooded Coal Mine in India',\n",
       " 'Indian police probe if violence over dead cow was result of conspiracy',\n",
       " 'Day 16: IAF, Coal India, leading pump manufacturer Kirloskar Brothers rush in to rescue trapped Meghalaya miners',\n",
       " 'Tackling Agrarian Crisis',\n",
       " 'Centre Has No Farmer Suicide Data Since 2016, Minister Told Parliament',\n",
       " '19 persons held, 11 for killing constable, 8 for unrest in Ghazipur',\n",
       " 'Bear mauls farmer couple in Tumakuru',\n",
       " 'Villagers question 4 names in FIR on cow slaughter, 11 & 12 yr old among those named',\n",
       " 'Bulandshahr: BJP MLA hits out at ex-bureaucrats who slammed UP CM, says ‘no one bothered about 21 dead cows’',\n",
       " 'Kalahandi farmers demand drought-hit status, hold roadblock',\n",
       " '5 Ways to Ease Distress of Farmers: SBI',\n",
       " 'SAD slams Rahul Gandhi, Amarinder for betraying farmers',\n",
       " 'Rescue operation on for 15 inside rat hole mine in Meghalaya',\n",
       " 'Malaysian Organization Condemns Pulwama Killings',\n",
       " 'Farmers launch indefinite hunger strike against power line project',\n",
       " \"C'garh coal mine deaths: Two SECL officials suspended\",\n",
       " 'Poachers’ trap kills leopard in Aamby Valley, second death in 30 days',\n",
       " 'Fate of 14 trapped in Meghalaya mine remains uncertain',\n",
       " 'Livestock traders to protest export ban on Tuna port',\n",
       " 'Two dead, five injured as truck hits tractor',\n",
       " 'Arrests For Cow Slaughter Lead To More Questions Than Answers',\n",
       " 'Maharashtra Wildlife board to talk bullet train land acquisition',\n",
       " 'Farmer dies after falling off from building, was in Delhi for kisan rally',\n",
       " 'Thoothukudi firing victims killed by shots to head, chest; half from behind: Postmortem reports',\n",
       " 'Politically motivated Resettlement Act',\n",
       " 'Animal Attack: Panic Grips Manipur As Mysterious Killings Of Livestock Continue',\n",
       " \"Bulandshahr violence: 'What about death of cows?'\",\n",
       " 'BJP banking on women, Congress on farmers',\n",
       " 'Farmer dies after falling off building, a day after march',\n",
       " 'Jyotiraditya Scindia criticizes paternal aunt Vasundhara Raje for plight of youths and farmers',\n",
       " 'Divers comb Indian mine for missing men',\n",
       " 'Man as bait for man-eater! After goat failed to catch leopard, Gujarat forest dept puts officials in cage to lure big cat',\n",
       " 'Letter to BS: Farmers urge govt to hold special session on agrarian crisis',\n",
       " 'Bavdhan spring to help the city tide over water crisis',\n",
       " 'Deadly pesticide in temple food that killed 15 in India',\n",
       " 'Loan waivers do not address farming crisis',\n",
       " 'No water in the rice bowl',\n",
       " 'Cauvery water row: Centre to call meeting of Karnataka, Tamil Nadu chief ministers to discuss Mekedatu dam issue',\n",
       " 'Protesters call for justice on anniversary of deadly gas tragedy in India',\n",
       " \"In the northern Himalayas, climate change is wreaking havoc on farmers' businesses\",\n",
       " 'Mumbai: Koli community, BMC at loggerheads over Coastal Road project',\n",
       " 'Two killed in violence over cow slaughter in north India',\n",
       " 'Central team to assess crop damage in Maha',\n",
       " '31,336 encroachments removed in two months, Civic body tells Gujarat High Court',\n",
       " 'Hunt on in India for leopard that killed meditating monk',\n",
       " 'The BJP will have to go the extra mile to address the grievances of farmers and traders',\n",
       " 'Farmers Protest As J’khand Govt Takes Over Farmland For Adani',\n",
       " '3 workers killed after gas leak in Chhattisgarh coal mine',\n",
       " 'UP Police prioritise alleged cow killing in Bulandshahr case and other top news',\n",
       " 'Tea prices stay cold, scald margins of plantation companies',\n",
       " 'AIADMK continues protest against construction of dam across Cauvery River',\n",
       " 'Farmers intensify protest against bid to erect transmission towers',\n",
       " 'Desperate Indian farmers march on parliament',\n",
       " \"Crocodile scare grips residents of Chennai's Tambaram and Velechery areas\",\n",
       " 'MP: Tiger killed near Bhopal for its paws, 22nd death this year',\n",
       " 'Four held for Bulandshahr violence',\n",
       " 'Another elephant killed as train smashes it at Walayar',\n",
       " 'Man-Animal Conflict: In 2018, India recorded the highest number of leopard deaths since 2014',\n",
       " 'AIADMK MPs protest against construction of dam on Cauvery river',\n",
       " 'Two killed in violence over cow slaughter in north India',\n",
       " 'Karnataka: Farmers protests mark first day of winter session',\n",
       " 'Farmers threaten to launch stir',\n",
       " 'Two killed in violence over cow slaughter in north India',\n",
       " 'Land acquisition: 27 farmers move Supreme Court against West Bengal government',\n",
       " 'Ghaziabad development body issues eviction notices to Tulsi Niketan residents',\n",
       " 'Meditating monk killed by leopard in Indian forest',\n",
       " 'Meghalaya mine tragedy: Navy sends divers, IAF airlifts pumps as efforts hasten to rescue miners fortnight after incident',\n",
       " 'Teams of ex-servicemen to be deployed for patrolling, checking illegal encroachments in highways',\n",
       " 'India steps up efforts to rescue trapped coal miners']"
      ]
     },
     "execution_count": 98,
     "metadata": {},
     "output_type": "execute_result"
    }
   ],
   "source": [
    "[load_obj(files[x]).title for x in positive]"
   ]
  },
  {
   "cell_type": "code",
   "execution_count": 99,
   "metadata": {},
   "outputs": [
    {
     "data": {
      "text/plain": [
       "77"
      ]
     },
     "execution_count": 99,
     "metadata": {},
     "output_type": "execute_result"
    }
   ],
   "source": [
    "len(positive)"
   ]
  }
 ],
 "metadata": {
  "kernelspec": {
   "display_name": "policy-toolkit",
   "language": "python",
   "name": "policy-toolkit"
  },
  "language_info": {
   "codemirror_mode": {
    "name": "ipython",
    "version": 3
   },
   "file_extension": ".py",
   "mimetype": "text/x-python",
   "name": "python",
   "nbconvert_exporter": "python",
   "pygments_lexer": "ipython3",
   "version": "3.7.3"
  }
 },
 "nbformat": 4,
 "nbformat_minor": 2
}
