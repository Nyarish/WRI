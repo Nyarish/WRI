{
 "cells": [
  {
   "cell_type": "markdown",
   "metadata": {},
   "source": [
    "## Load gold standard data"
   ]
  },
  {
   "cell_type": "code",
   "execution_count": 19,
   "metadata": {},
   "outputs": [],
   "source": [
    "import pickle\n",
    "import pandas as pd\n",
    "from newsplease import NewsPlease\n",
    "\n",
    "def load_obj(month, idx):\n",
    "    month = str(month).zfill(2)\n",
    "    idx = str(idx).zfill(5)\n",
    "    with open(\"../data/texts/{}/{}.pkl\".format(month, idx), \"rb\") as f:\n",
    "        return pickle.load(f)\n",
    "    \n",
    "def load_dict(month):\n",
    "    month = str(month).zfill(2)\n",
    "    with open(\"../data/metadata/matching/{}.pkl\".format(month), \"rb\") as f:\n",
    "        return pickle.load(f)"
   ]
  },
  {
   "cell_type": "code",
   "execution_count": 20,
   "metadata": {},
   "outputs": [],
   "source": [
    "gs = pd.read_csv('../data/gold-standard/gold_standard.csv')\n",
    "\n",
    "gs_articles = {}\n",
    "\n",
    "for i in range(len(gs)):\n",
    "    article = load_obj(gs['month'][i], gs['ids'][i])\n",
    "    gs_articles[i] = article"
   ]
  },
  {
   "cell_type": "markdown",
   "metadata": {},
   "source": [
    "## Load metadata for one gold standard"
   ]
  },
  {
   "cell_type": "code",
   "execution_count": null,
   "metadata": {},
   "outputs": [],
   "source": [
    "gs = pd.read_csv('../data/gold-standard/gold_standard.csv')\n",
    "gs_sample = gs.iloc[1]\n",
    "\n",
    "def match_metadata(gs_sample):\n",
    "    month = str(gs_sample['month']).zfill(2)\n",
    "    idx = gs_sample['ids']\n",
    "    matching_dictionary = load_dict(month)\n",
    "    print('This sample matches these rows in {}.csv: {}'.format(month, matching_dictionary[idx]))\n",
    "    df = pd.read_csv(\"../data/metadata/variables/{}.csv\".format(month))\n",
    "    return df.iloc[matching_dictionary[idx]]\n",
    "    \n",
    "match_metadata(gs_sample)"
   ]
  }
 ],
 "metadata": {
  "kernelspec": {
   "display_name": "policy-toolkit",
   "language": "python",
   "name": "policy-toolkit"
  },
  "language_info": {
   "codemirror_mode": {
    "name": "ipython",
    "version": 3
   },
   "file_extension": ".py",
   "mimetype": "text/x-python",
   "name": "python",
   "nbconvert_exporter": "python",
   "pygments_lexer": "ipython3",
   "version": "3.7.3"
  }
 },
 "nbformat": 4,
 "nbformat_minor": 2
}
