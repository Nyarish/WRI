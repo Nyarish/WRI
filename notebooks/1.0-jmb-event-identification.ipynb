{
 "cells": [
  {
   "cell_type": "markdown",
   "metadata": {},
   "source": [
    "# GDELT Pilot\n",
    "### John Brandt\n",
    "\n",
    "## Data Acquisition with BigQuery"
   ]
  },
  {
   "cell_type": "code",
   "execution_count": 2,
   "metadata": {},
   "outputs": [],
   "source": [
    "import pandas as pd\n",
    "import os"
   ]
  },
  {
   "cell_type": "code",
   "execution_count": null,
   "metadata": {},
   "outputs": [],
   "source": [
    "from google.cloud import bigquery\n",
    "client = bigquery.Client()\n",
    "\n",
    "query = (\n",
    "    \n",
    "    \"SELECT SourceCommonName, Amounts, V2Locations, V2Organizations, V2Themes FROM [gdelt-bq:gdeltv2.gkg@-604800000-] \"\n",
    "    'WHERE Amounts LIKE \"%trees%\"'\n",
    "    'AND Amounts LIKE \"%planted%\"'\n",
    ")\n",
    "query_job = client.query(\n",
    "    query,\n",
    "    location=\"US\",\n",
    ")\n",
    "\n",
    "for row in query_job:  # API request - fetches results\n",
    "    # Row values can be accessed by field name or index\n",
    "    assert row[0] == row.name == row[\"name\"]\n",
    "    print(row)"
   ]
  },
  {
   "cell_type": "markdown",
   "metadata": {},
   "source": [
    "## Load in data\n",
    "\n",
    "Because each BigQuery call costs about \\$0.25 USD, I will load in a CSV during each jupyter session. This notebook currently works with weekly references to tree plantings, but will be functionalized to work with other event detections in the future."
   ]
  },
  {
   "cell_type": "code",
   "execution_count": 3,
   "metadata": {},
   "outputs": [],
   "source": [
    "files = os.listdir(\"../data/external\")\n",
    "data = pd.read_csv(\"../data/external/\" + files[2])"
   ]
  },
  {
   "cell_type": "markdown",
   "metadata": {},
   "source": [
    "## Locating events"
   ]
  },
  {
   "cell_type": "markdown",
   "metadata": {},
   "source": [
    "In order to tie events to locations and organizations, we assign the location most closely referenced to the event in the text. \n",
    "\n",
    "For each event detected, create a dictionary of the form {index : (number, action)}. This will be matched with a similar location dictionary of the form {index : location} with a grid search."
   ]
  },
  {
   "cell_type": "code",
   "execution_count": 57,
   "metadata": {
    "scrolled": true
   },
   "outputs": [],
   "source": [
    "def locate_event(i):\n",
    "    #print(\"\\nData point {}\".format(i))\n",
    "    amount = data.iloc[i, 1]\n",
    "    locs = [x for x in str(data.iloc[i, 2]).split(\";\")]\n",
    "    refs = ([x for x in amount.split(\";\") if \"tree\" in x])   # Split up the references into value, action, index\n",
    "    refs = ([x for x in refs if \"plant\" in x])\n",
    "    values, actions, indexes = [], [], []\n",
    "    # Parse into separate lists\n",
    "    # Generate key, (number, action) dictionary for each entry\n",
    "    for ref in refs:                                       \n",
    "        parsed = ref.split(\",\")\n",
    "        values.append(int(parsed[0]))\n",
    "        actions.append(parsed[1])\n",
    "        indexes.append(int(parsed[2]))\n",
    "        \n",
    "    refs = dict(zip(indexes, zip(values, actions)))        # {index: (number, action)}\n",
    "    locs_dict = {}\n",
    "    for loc in locs:                                       # Generate key, value pair for each location in each entry\n",
    "        dict_i = {}\n",
    "        locs_dict.update( { loc.split(\"#\")[-1] : loc.split(\"#\")[:-1] }) # {index : location}\n",
    "\n",
    "    if list(locs_dict.keys()) == ['nan']:                 # if no location, return null\n",
    "        return None, None\n",
    "    if len(list(refs.keys())) == 0:                       # if no references, return null\n",
    "        return None, None\n",
    "    \n",
    "    refs_idx = [int(x) for x in list(refs.keys())][0]\n",
    "    locs_idx = [int(x) for x in list(locs_dict.keys())]\n",
    "    loc_idx = min(locs_idx, key=lambda x:abs(x-refs_idx))    \n",
    "    location = locs_dict.get(str(loc_idx))\n",
    "    return refs, location"
   ]
  },
  {
   "cell_type": "code",
   "execution_count": 71,
   "metadata": {},
   "outputs": [
    {
     "name": "stdout",
     "output_type": "stream",
     "text": [
      "Reference 105: \n",
      " None \n",
      " None\n",
      "\n",
      "Reference 106: \n",
      " None \n",
      " None\n",
      "\n",
      "Reference 107: \n",
      " {679: (10, 'cherries planting greenhouses subtree')} \n",
      " ['4', 'Kunming, Yunnan, China', 'CH', 'CH29', '13303', '25.0389', '102.718', '-1913826']\n",
      "\n",
      "Reference 108: \n",
      " None \n",
      " None\n",
      "\n",
      "Reference 109: \n",
      " {1230: (70, 'times nationwide tree planting')} \n",
      " ['4', 'Tokoname, Aichi, Japan', 'JA', 'JA01', '33452', '34.8833', '136.85', '-246176']\n",
      "\n",
      "Reference 110: \n",
      " {1452: (70, 'times nationwide tree planting')} \n",
      " ['4', 'Nagakute, Aichi, Japan', 'JA', 'JA01', '33461', '35.1753', '137.061', '-237670']\n",
      "\n",
      "Reference 111: \n",
      " {453: (200, 'children planted trees')} \n",
      " ['1', 'Australia', 'AS', 'AS', '', '-25', '135', 'AS']\n",
      "\n"
     ]
    }
   ],
   "source": [
    "for i in range(105, 112):\n",
    "    refs, location = locate_event(i)\n",
    "    print(\"Reference {}: \\n {} \\n {}\\n\".format(i, refs, location))\n",
    "    # TODO: merge refs, location into dataframe\n",
    "    # TODO: join original themes, locations, events, and people to above DF\n",
    "    # TODO: confidence\n",
    "    # FIXME: Why do some of them not have references?"
   ]
  },
  {
   "cell_type": "code",
   "execution_count": null,
   "metadata": {},
   "outputs": [],
   "source": [
    "# TODO: Implement summary statistics of matched ref, loc\n",
    "# TODO: Geocode proposed loc\n",
    "# TODO: Event isolation / deduplication\n",
    "# TODO: Develop SVM / RandomForests classifier for (False positive / Planned / Implemented)\n",
    "# TODO: Port to REST API\n",
    "# TODO: Attache confidence to each point (define an algorithm)\n",
    "# TODO: Export to leaflet dashboard"
   ]
  }
 ],
 "metadata": {
  "kernelspec": {
   "display_name": "Python 3",
   "language": "python",
   "name": "python3"
  },
  "language_info": {
   "codemirror_mode": {
    "name": "ipython",
    "version": 3
   },
   "file_extension": ".py",
   "mimetype": "text/x-python",
   "name": "python",
   "nbconvert_exporter": "python",
   "pygments_lexer": "ipython3",
   "version": "3.6.8"
  }
 },
 "nbformat": 4,
 "nbformat_minor": 2
}
