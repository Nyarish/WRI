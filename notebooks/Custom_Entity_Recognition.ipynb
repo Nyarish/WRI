{
  "nbformat": 4,
  "nbformat_minor": 0,
  "metadata": {
    "kernelspec": {
      "name": "python3",
      "display_name": "Python 3"
    },
    "language_info": {
      "codemirror_mode": {
        "name": "ipython",
        "version": 3
      },
      "file_extension": ".py",
      "mimetype": "text/x-python",
      "name": "python",
      "nbconvert_exporter": "python",
      "pygments_lexer": "ipython3",
      "version": "3.7.3"
    },
    "colab": {
      "name": "Custom_Entity_Recognition.ipynb",
      "provenance": [],
      "collapsed_sections": []
    },
    "accelerator": "GPU"
  },
  "cells": [
    {
      "cell_type": "markdown",
      "metadata": {
        "id": "8_gwwJH_sDq2",
        "colab_type": "text"
      },
      "source": [
        "# Mounting drive"
      ]
    },
    {
      "cell_type": "code",
      "metadata": {
        "id": "lgrjd-RFsIf8",
        "colab_type": "code",
        "outputId": "b9481cb6-2813-46c9-af60-274275b4e7bb",
        "colab": {
          "base_uri": "https://localhost:8080/",
          "height": 127
        }
      },
      "source": [
        "#To login to your googledrive account for file management\n",
        "from google.colab import drive\n",
        "drive.mount('/content/drive')"
      ],
      "execution_count": 1,
      "outputs": [
        {
          "output_type": "stream",
          "text": [
            "Go to this URL in a browser: https://accounts.google.com/o/oauth2/auth?client_id=947318989803-6bn6qk8qdgf4n4g3pfee6491hc0brc4i.apps.googleusercontent.com&redirect_uri=urn%3Aietf%3Awg%3Aoauth%3A2.0%3Aoob&scope=email%20https%3A%2F%2Fwww.googleapis.com%2Fauth%2Fdocs.test%20https%3A%2F%2Fwww.googleapis.com%2Fauth%2Fdrive%20https%3A%2F%2Fwww.googleapis.com%2Fauth%2Fdrive.photos.readonly%20https%3A%2F%2Fwww.googleapis.com%2Fauth%2Fpeopleapi.readonly&response_type=code\n",
            "\n",
            "Enter your authorization code:\n",
            "··········\n",
            "Mounted at /content/drive\n"
          ],
          "name": "stdout"
        }
      ]
    },
    {
      "cell_type": "code",
      "metadata": {
        "id": "ztcTZF4wsNhx",
        "colab_type": "code",
        "outputId": "bee9e419-e9f8-44d6-d0db-d4676c7fb0d4",
        "colab": {
          "base_uri": "https://localhost:8080/",
          "height": 35
        }
      },
      "source": [
        "#CD into the directory you want to be in and clone the repository in\n",
        "% cd drive/My Drive/Colab Notebooks/WRI_Enivronmental_Conflicts/"
      ],
      "execution_count": 2,
      "outputs": [
        {
          "output_type": "stream",
          "text": [
            "/content/drive/My Drive/Colab Notebooks/WRI_Enivronmental_Conflicts\n"
          ],
          "name": "stdout"
        }
      ]
    },
    {
      "cell_type": "code",
      "metadata": {
        "id": "VwPN9US_0FY6",
        "colab_type": "code",
        "outputId": "b40ced08-4834-4334-8f4a-d1c60977db6d",
        "colab": {
          "base_uri": "https://localhost:8080/",
          "height": 1000
        }
      },
      "source": [
        "#!pip uninstall spacy \n",
        "#!pip uninstall neuralcoref\n",
        "!pip install spacy==2.1.0\n",
        "!pip install neuralcoref\n",
        "!python -m spacy download en"
      ],
      "execution_count": 3,
      "outputs": [
        {
          "output_type": "stream",
          "text": [
            "Collecting spacy==2.1.0\n",
            "\u001b[?25l  Downloading https://files.pythonhosted.org/packages/62/39/4bde5da5f18ab0bdd525760c4fe38808b4bb03907a2aea094000d831afe1/spacy-2.1.0-cp36-cp36m-manylinux1_x86_64.whl (27.7MB)\n",
            "\u001b[K     |████████████████████████████████| 27.7MB 44.8MB/s \n",
            "\u001b[?25hRequirement already satisfied: srsly<1.1.0,>=0.0.5 in /usr/local/lib/python3.6/dist-packages (from spacy==2.1.0) (0.2.0)\n",
            "Requirement already satisfied: numpy>=1.15.0 in /usr/local/lib/python3.6/dist-packages (from spacy==2.1.0) (1.17.3)\n",
            "Requirement already satisfied: wasabi<1.1.0,>=0.0.12 in /usr/local/lib/python3.6/dist-packages (from spacy==2.1.0) (0.3.0)\n",
            "Requirement already satisfied: jsonschema<3.0.0,>=2.6.0 in /usr/local/lib/python3.6/dist-packages (from spacy==2.1.0) (2.6.0)\n",
            "Requirement already satisfied: plac<1.0.0,>=0.9.6 in /usr/local/lib/python3.6/dist-packages (from spacy==2.1.0) (0.9.6)\n",
            "Requirement already satisfied: murmurhash<1.1.0,>=0.28.0 in /usr/local/lib/python3.6/dist-packages (from spacy==2.1.0) (1.0.2)\n",
            "Requirement already satisfied: blis<0.3.0,>=0.2.2 in /usr/local/lib/python3.6/dist-packages (from spacy==2.1.0) (0.2.4)\n",
            "Requirement already satisfied: requests<3.0.0,>=2.13.0 in /usr/local/lib/python3.6/dist-packages (from spacy==2.1.0) (2.21.0)\n",
            "Requirement already satisfied: cymem<2.1.0,>=2.0.2 in /usr/local/lib/python3.6/dist-packages (from spacy==2.1.0) (2.0.2)\n",
            "Requirement already satisfied: thinc<7.1.0,>=7.0.2 in /usr/local/lib/python3.6/dist-packages (from spacy==2.1.0) (7.0.8)\n",
            "Requirement already satisfied: preshed<2.1.0,>=2.0.1 in /usr/local/lib/python3.6/dist-packages (from spacy==2.1.0) (2.0.1)\n",
            "Requirement already satisfied: urllib3<1.25,>=1.21.1 in /usr/local/lib/python3.6/dist-packages (from requests<3.0.0,>=2.13.0->spacy==2.1.0) (1.24.3)\n",
            "Requirement already satisfied: idna<2.9,>=2.5 in /usr/local/lib/python3.6/dist-packages (from requests<3.0.0,>=2.13.0->spacy==2.1.0) (2.8)\n",
            "Requirement already satisfied: certifi>=2017.4.17 in /usr/local/lib/python3.6/dist-packages (from requests<3.0.0,>=2.13.0->spacy==2.1.0) (2019.9.11)\n",
            "Requirement already satisfied: chardet<3.1.0,>=3.0.2 in /usr/local/lib/python3.6/dist-packages (from requests<3.0.0,>=2.13.0->spacy==2.1.0) (3.0.4)\n",
            "Requirement already satisfied: tqdm<5.0.0,>=4.10.0 in /usr/local/lib/python3.6/dist-packages (from thinc<7.1.0,>=7.0.2->spacy==2.1.0) (4.28.1)\n",
            "Installing collected packages: spacy\n",
            "  Found existing installation: spacy 2.1.9\n",
            "    Uninstalling spacy-2.1.9:\n",
            "      Successfully uninstalled spacy-2.1.9\n",
            "Successfully installed spacy-2.1.0\n",
            "Collecting neuralcoref\n",
            "\u001b[?25l  Downloading https://files.pythonhosted.org/packages/ea/24/0ec7845a5b73b637aa691ff4d1b9b48f3a0f3369f4002a59ffd7a7462fdb/neuralcoref-4.0-cp36-cp36m-manylinux1_x86_64.whl (287kB)\n",
            "\u001b[K     |████████████████████████████████| 296kB 9.2MB/s \n",
            "\u001b[?25hRequirement already satisfied: spacy>=2.1.0 in /usr/local/lib/python3.6/dist-packages (from neuralcoref) (2.1.0)\n",
            "Requirement already satisfied: boto3 in /usr/local/lib/python3.6/dist-packages (from neuralcoref) (1.10.7)\n",
            "Requirement already satisfied: requests<3.0.0,>=2.13.0 in /usr/local/lib/python3.6/dist-packages (from neuralcoref) (2.21.0)\n",
            "Requirement already satisfied: numpy>=1.15.0 in /usr/local/lib/python3.6/dist-packages (from neuralcoref) (1.17.3)\n",
            "Requirement already satisfied: preshed<2.1.0,>=2.0.1 in /usr/local/lib/python3.6/dist-packages (from spacy>=2.1.0->neuralcoref) (2.0.1)\n",
            "Requirement already satisfied: cymem<2.1.0,>=2.0.2 in /usr/local/lib/python3.6/dist-packages (from spacy>=2.1.0->neuralcoref) (2.0.2)\n",
            "Requirement already satisfied: murmurhash<1.1.0,>=0.28.0 in /usr/local/lib/python3.6/dist-packages (from spacy>=2.1.0->neuralcoref) (1.0.2)\n",
            "Requirement already satisfied: srsly<1.1.0,>=0.0.5 in /usr/local/lib/python3.6/dist-packages (from spacy>=2.1.0->neuralcoref) (0.2.0)\n",
            "Requirement already satisfied: jsonschema<3.0.0,>=2.6.0 in /usr/local/lib/python3.6/dist-packages (from spacy>=2.1.0->neuralcoref) (2.6.0)\n",
            "Requirement already satisfied: thinc<7.1.0,>=7.0.2 in /usr/local/lib/python3.6/dist-packages (from spacy>=2.1.0->neuralcoref) (7.0.8)\n",
            "Requirement already satisfied: blis<0.3.0,>=0.2.2 in /usr/local/lib/python3.6/dist-packages (from spacy>=2.1.0->neuralcoref) (0.2.4)\n",
            "Requirement already satisfied: wasabi<1.1.0,>=0.0.12 in /usr/local/lib/python3.6/dist-packages (from spacy>=2.1.0->neuralcoref) (0.3.0)\n",
            "Requirement already satisfied: plac<1.0.0,>=0.9.6 in /usr/local/lib/python3.6/dist-packages (from spacy>=2.1.0->neuralcoref) (0.9.6)\n",
            "Requirement already satisfied: jmespath<1.0.0,>=0.7.1 in /usr/local/lib/python3.6/dist-packages (from boto3->neuralcoref) (0.9.4)\n",
            "Requirement already satisfied: s3transfer<0.3.0,>=0.2.0 in /usr/local/lib/python3.6/dist-packages (from boto3->neuralcoref) (0.2.1)\n",
            "Requirement already satisfied: botocore<1.14.0,>=1.13.7 in /usr/local/lib/python3.6/dist-packages (from boto3->neuralcoref) (1.13.7)\n",
            "Requirement already satisfied: certifi>=2017.4.17 in /usr/local/lib/python3.6/dist-packages (from requests<3.0.0,>=2.13.0->neuralcoref) (2019.9.11)\n",
            "Requirement already satisfied: chardet<3.1.0,>=3.0.2 in /usr/local/lib/python3.6/dist-packages (from requests<3.0.0,>=2.13.0->neuralcoref) (3.0.4)\n",
            "Requirement already satisfied: urllib3<1.25,>=1.21.1 in /usr/local/lib/python3.6/dist-packages (from requests<3.0.0,>=2.13.0->neuralcoref) (1.24.3)\n",
            "Requirement already satisfied: idna<2.9,>=2.5 in /usr/local/lib/python3.6/dist-packages (from requests<3.0.0,>=2.13.0->neuralcoref) (2.8)\n",
            "Requirement already satisfied: tqdm<5.0.0,>=4.10.0 in /usr/local/lib/python3.6/dist-packages (from thinc<7.1.0,>=7.0.2->spacy>=2.1.0->neuralcoref) (4.28.1)\n",
            "Requirement already satisfied: docutils<0.16,>=0.10 in /usr/local/lib/python3.6/dist-packages (from botocore<1.14.0,>=1.13.7->boto3->neuralcoref) (0.15.2)\n",
            "Requirement already satisfied: python-dateutil<3.0.0,>=2.1; python_version >= \"2.7\" in /usr/local/lib/python3.6/dist-packages (from botocore<1.14.0,>=1.13.7->boto3->neuralcoref) (2.6.1)\n",
            "Requirement already satisfied: six>=1.5 in /usr/local/lib/python3.6/dist-packages (from python-dateutil<3.0.0,>=2.1; python_version >= \"2.7\"->botocore<1.14.0,>=1.13.7->boto3->neuralcoref) (1.12.0)\n",
            "Installing collected packages: neuralcoref\n",
            "Successfully installed neuralcoref-4.0\n",
            "Requirement already satisfied: en_core_web_sm==2.1.0 from https://github.com/explosion/spacy-models/releases/download/en_core_web_sm-2.1.0/en_core_web_sm-2.1.0.tar.gz#egg=en_core_web_sm==2.1.0 in /usr/local/lib/python3.6/dist-packages (2.1.0)\n",
            "\u001b[38;5;2m✔ Download and installation successful\u001b[0m\n",
            "You can now load the model via spacy.load('en_core_web_sm')\n",
            "\u001b[38;5;2m✔ Linking successful\u001b[0m\n",
            "/usr/local/lib/python3.6/dist-packages/en_core_web_sm -->\n",
            "/usr/local/lib/python3.6/dist-packages/spacy/data/en\n",
            "You can now load the model via spacy.load('en')\n"
          ],
          "name": "stdout"
        }
      ]
    },
    {
      "cell_type": "markdown",
      "metadata": {
        "id": "Oljq0vPSfJnL",
        "colab_type": "text"
      },
      "source": [
        "# Creating custom entity detection"
      ]
    },
    {
      "cell_type": "markdown",
      "metadata": {
        "id": "QvoJsdVGDSod",
        "colab_type": "text"
      },
      "source": [
        "**Loading in the file with prelabeled entities. Splitting into train and test**"
      ]
    },
    {
      "cell_type": "code",
      "metadata": {
        "id": "eksFpMWYH2Zk",
        "colab_type": "code",
        "colab": {
          "base_uri": "https://localhost:8080/",
          "height": 35
        },
        "outputId": "9159f1c8-ae6c-42ce-b179-47d0d18c7895"
      },
      "source": [
        "import spacy\n",
        "import neuralcoref\n",
        "import random"
      ],
      "execution_count": 4,
      "outputs": [
        {
          "output_type": "stream",
          "text": [
            "100%|██████████| 40155833/40155833 [00:02<00:00, 19787185.31B/s]\n"
          ],
          "name": "stderr"
        }
      ]
    },
    {
      "cell_type": "code",
      "metadata": {
        "id": "BCGpLHQFfJnM",
        "colab_type": "code",
        "colab": {}
      },
      "source": [
        "import json\n",
        "import random\n",
        "\n",
        "#Converting JSON1 files to Spacy tuples format\n",
        "def convert_doccano_to_spacy(filepath):\n",
        "    with open(filepath, 'rb') as fp:\n",
        "        data = fp.readlines()\n",
        "\n",
        "    training_data = []\n",
        "    for record in data:\n",
        "        entities = []\n",
        "        read_record = json.loads(record)\n",
        "        text = read_record['text']\n",
        "        entities_record = read_record['labels']\n",
        "\n",
        "        for start, end, label in entities_record:\n",
        "            entities.append((start, end, label))\n",
        "\n",
        "        training_data.append((text, {\"entities\": entities}))\n",
        "    return training_data"
      ],
      "execution_count": 0,
      "outputs": []
    },
    {
      "cell_type": "code",
      "metadata": {
        "id": "YPacUDbnfJnS",
        "colab_type": "code",
        "colab": {}
      },
      "source": [
        "filepath = 'corefs_positive_second_batch.json1'\n",
        "entities = convert_doccano_to_spacy(filepath)"
      ],
      "execution_count": 0,
      "outputs": []
    },
    {
      "cell_type": "code",
      "metadata": {
        "id": "bXvKe3TNGikL",
        "colab_type": "code",
        "outputId": "855da3e7-e0a4-41ea-be29-9b2d96a69aca",
        "colab": {
          "base_uri": "https://localhost:8080/",
          "height": 35
        }
      },
      "source": [
        "#We remove all those articles that haven't been annotated from the training set and put them in the test set\n",
        "test = []\n",
        "train = []\n",
        "for i in range(175):\n",
        "  if (entities[i][1] == {'entities': []}):\n",
        "    test.append(entities[i])\n",
        "  else:\n",
        "    train.append(entities[i]) \n",
        "print(len(train))\n",
        "#Next we add some more news articles from the training set into the test set\n",
        "r = random.randint(0,100)\n",
        "for i in range(r,r+20):\n",
        "  test.append(train[i])\n",
        "  train.remove(train[i])"
      ],
      "execution_count": 89,
      "outputs": [
        {
          "output_type": "stream",
          "text": [
            "147\n"
          ],
          "name": "stdout"
        }
      ]
    },
    {
      "cell_type": "code",
      "metadata": {
        "id": "e1SLY4jiIjGt",
        "colab_type": "code",
        "outputId": "925d01f6-ed80-4d62-9cf1-a50cdfa15b07",
        "colab": {
          "base_uri": "https://localhost:8080/",
          "height": 35
        }
      },
      "source": [
        "len(test)"
      ],
      "execution_count": 90,
      "outputs": [
        {
          "output_type": "execute_result",
          "data": {
            "text/plain": [
              "48"
            ]
          },
          "metadata": {
            "tags": []
          },
          "execution_count": 90
        }
      ]
    },
    {
      "cell_type": "code",
      "metadata": {
        "id": "phoaM4zOfJnZ",
        "colab_type": "code",
        "colab": {}
      },
      "source": [
        "#Restricting our news article to the first four paragraphs. \n",
        "def chop_news(article):\n",
        "    paragraphs = article.splitlines()[:4]\n",
        "    new_text = ' '.join(paragraphs)\n",
        "    return new_text"
      ],
      "execution_count": 0,
      "outputs": []
    },
    {
      "cell_type": "markdown",
      "metadata": {
        "id": "lWmtNcYUZRoE",
        "colab_type": "text"
      },
      "source": [
        "# Training the Model"
      ]
    },
    {
      "cell_type": "code",
      "metadata": {
        "id": "TGDM1dN8fJng",
        "colab_type": "code",
        "outputId": "d9f03604-5f7e-45b6-a67e-b67c7d9c1d5f",
        "colab": {
          "base_uri": "https://localhost:8080/",
          "height": 737
        }
      },
      "source": [
        "#Train a blank english model with our custom entities\n",
        "\n",
        "\n",
        "\n",
        "TRAIN_DATA = train\n",
        "\n",
        "\n",
        "def train_spacy(data,iterations):\n",
        "    TRAIN_DATA = data\n",
        "    nlp = spacy.blank('en')  # create blank Language class\n",
        "    # create the built-in pipeline components and add them to the pipeline\n",
        "    # nlp.create_pipe works for built-ins that are registered with spaCy\n",
        "    if 'ner' not in nlp.pipe_names:\n",
        "        ner = nlp.create_pipe('ner')\n",
        "        nlp.add_pipe(ner, last=True)\n",
        "\n",
        "    nlp.add_pipe(nlp.create_pipe('sentencizer'))  #Adding sentencizer as a prerequisite to coref\n",
        "    neuralcoref.add_to_pipe(nlp)  #Adding corefering in the pipeline\n",
        "    \n",
        "       \n",
        "\n",
        "    # add labels\n",
        "    for _, annotations in TRAIN_DATA:\n",
        "         for ent in annotations.get('entities'):\n",
        "            ner.add_label(ent[2])\n",
        "\n",
        "    # get names of other pipes to disable them during training\n",
        "    other_pipes = [pipe for pipe in nlp.pipe_names if pipe != 'ner']\n",
        "    with nlp.disable_pipes(*other_pipes):  # only train NER\n",
        "        optimizer = nlp.begin_training()\n",
        "        for itn in range(iterations):\n",
        "            print(\"Starting iteration \" + str(itn))\n",
        "            random.shuffle(TRAIN_DATA)\n",
        "            losses = {}\n",
        "            for text, annotations in TRAIN_DATA:\n",
        "                nlp.update(\n",
        "                    [text],  # batch of texts\n",
        "                    [annotations],  # batch of annotations\n",
        "                    drop=0.2,  # dropout - make it harder to memorise data\n",
        "                    sgd=optimizer,  # callable to update weights\n",
        "                    losses=losses)\n",
        "            print(losses)\n",
        "    return nlp\n",
        "\n",
        "\n",
        "prdnlp = train_spacy(TRAIN_DATA, 20)\n",
        "\n",
        "# Save our trained Model\n",
        "#modelfile = input(\"Enter your Model Name: \")\n",
        "prdnlp.to_disk('Custom_NER_Model')\n",
        "\n"
      ],
      "execution_count": 69,
      "outputs": [
        {
          "output_type": "stream",
          "text": [
            "Starting iteration 0\n",
            "{'ner': 4490.837859520542}\n",
            "Starting iteration 1\n",
            "{'ner': 4920.839953297986}\n",
            "Starting iteration 2\n",
            "{'ner': 3204.9036175011156}\n",
            "Starting iteration 3\n",
            "{'ner': 4216.418759342657}\n",
            "Starting iteration 4\n",
            "{'ner': 3446.6095027448728}\n",
            "Starting iteration 5\n",
            "{'ner': 4563.0620263103165}\n",
            "Starting iteration 6\n",
            "{'ner': 5001.291738912865}\n",
            "Starting iteration 7\n",
            "{'ner': 2789.93067522007}\n",
            "Starting iteration 8\n",
            "{'ner': 4249.560251776801}\n",
            "Starting iteration 9\n",
            "{'ner': 2745.8087251758893}\n",
            "Starting iteration 10\n",
            "{'ner': 3403.094466017772}\n",
            "Starting iteration 11\n",
            "{'ner': 2532.117717726096}\n",
            "Starting iteration 12\n",
            "{'ner': 3392.292258568213}\n",
            "Starting iteration 13\n",
            "{'ner': 2862.723560541181}\n",
            "Starting iteration 14\n",
            "{'ner': 3405.06930386159}\n",
            "Starting iteration 15\n",
            "{'ner': 3021.045569118008}\n",
            "Starting iteration 16\n",
            "{'ner': 3398.013676563408}\n",
            "Starting iteration 17\n",
            "{'ner': 2869.9961363740094}\n",
            "Starting iteration 18\n",
            "{'ner': 2624.7629153403204}\n",
            "Starting iteration 19\n",
            "{'ner': 3017.878466013696}\n"
          ],
          "name": "stdout"
        }
      ]
    },
    {
      "cell_type": "markdown",
      "metadata": {
        "id": "WIX_ZW1VTn4H",
        "colab_type": "text"
      },
      "source": [
        "# Testing and diplaying"
      ]
    },
    {
      "cell_type": "code",
      "metadata": {
        "id": "GvDewnMGF-Kq",
        "colab_type": "code",
        "colab": {}
      },
      "source": [
        "# Print the entities\n",
        "import pandas as pd\n",
        "\n",
        "def get_entities_list(text,doc):\n",
        "  actor = []\n",
        "  number = []\n",
        "  action = []\n",
        "  for ents in doc.ents:\n",
        "    if ents.label_ == 'actor':\n",
        "      actor.append(ents.text)\n",
        "    elif ents.label_ == 'number':\n",
        "      number.append(ents.text)\n",
        "    else:\n",
        "      action.append(ents.text) \n",
        "  entities = [actor, action, number]\n",
        "  for e in entities:\n",
        "    e = list(dict.fromkeys(e))    #removing duplicated\n",
        "  len_table = max(len(actor), len(action), len(number))\n",
        "  for e in entities:\n",
        "    e += [''] * (len_table - len(e))\n",
        "  #print('Actor', actor)\n",
        "  #print('Action', len(action))\n",
        "  #print('Number', number)   \n",
        "   \n",
        "  entities = ['Actor', 'Number', 'Action'] \n",
        "  data = [entities] + list(zip(actor, number, action))   \n",
        "  for i, d in enumerate(data):\n",
        "    line = '|'.join(str(x).ljust(50) for x in d)  #pretty printing\n",
        "    print(line)\n",
        "    if i == 0:\n",
        "        print('-' * len(line))\n",
        "  return None\n",
        "\n",
        "#get_entities_list('asdfsdf',doc)  "
      ],
      "execution_count": 0,
      "outputs": []
    },
    {
      "cell_type": "code",
      "metadata": {
        "id": "F-nc7an7fJno",
        "colab_type": "code",
        "outputId": "0a071f91-8d31-4d93-c9b7-3ebfbcdf77b8",
        "colab": {
          "base_uri": "https://localhost:8080/",
          "height": 1000
        }
      },
      "source": [
        "#Test your text\n",
        "from spacy import displacy\n",
        "#test_text = 'Bharatiya Janata Party President Amit Shah on Sunday launched an attack on the Communist Party of India (Marxist) (CPI-M) in Tripura for spreading violence, saying that the former cannot stop them from rising in the Left-ruled state.\\nAhead of the Assembly elections in Tripura, the BJP Chief, while addressing a public rally here, said, \"I would like to tell the Manik government that the BJP will not cower down by violence. The more you spread the mud of violence, the better will be the Lotus blossom\".\\nHe added that more than seven lakh people, out of the 37 lakh population of Tripura, are registered in the unemployment list.\\n\"The health facilities here are inadequate. This is what was done here in the past 25 years by the ruling state government. But not the countdown has begun. The BJP will form the government here in March. Even if the corrupt goes underground, our party will dig the earth and bring them out,\" Shah asserted.\\nHe further said that the Tripura government is not taking any action against the culprits of chit fund because the entire Cabinet of Manik government will be behind the bars.\\nThe Assembly elections in the states will be held in March.\\nBoth Nagaland and Tripura have been two of the few states where the BJP has not formed a government.\\nIn the current Nagaland assembly, the Naga People\\'s Front (NPF) hold the majority.\\nMeanwhile, in Tripura Assembly, the Communist Party of India (Marxist) has been enjoying majority, while Chief Minister Manik Sarkar has been at the helm since 1998.'\n",
        "#test_text = 'Turkey has captured the elder sister of the slain leader of the Islamic State group in north-western Syria, according to a senior Turkish official, who called the arrest an intelligence \"gold mine\". \\n Little is known about the sister of Abu Bakr al-Baghdadi. The Turkish official said the 65-year-old known as Rasmiya Awad is suspected of being affiliated with the extremist group. He did not elaborate. \\n Awad was captured in a raid Monday evening (local time) on a trailer container she was living in with her family near the town of Azaz in Aleppo province. \\n The area is part of the region administered by Turkey after it carried out a military incursion to chase away IS militants and Kurdish fighters starting 2016. Allied Syrian groups manage the area known as the Euphrates Shield zone. \\n The official said the sister was with her husband, daughter-in-law and five children. The adults are being interrogated, he said, speaking on condition of anonymity in line with government protocol.\\n \"This kind of thing is an intelligence gold mine. What she knows about (IS) can significantly expand our understanding of the group and help us catch more bad guys,\" the official said. \\n Al-Baghdadi, an Iraqi from Samarra, was killed in a US raid in the nearby province of Idlib last month. The raid was a major blow to the group, which has lost territories it held in Syria and Iraq in a series of military defeats by the US-led coalition and Syrian and Iraqi allies.'\n",
        "for i in range(0,19):\n",
        "  test_text = chop_news(test[i][0])\n",
        "  doc = prdnlp(test_text)\n",
        "  get_entities_list(test_text,doc)\n",
        "  #for ent in doc.ents:\n",
        "  #  print(ent.text, ent.start_char, ent.end_char, ent.label_)\n",
        "  options = {\"ents\": [\"ACTOR\", \"ACTION\", \"NUMBER\"],\n",
        "           \"colors\": {\"ACTOR\": \"red\", \"ACTION\":\"blue\", \"NUMBER\":\"green\"}}\n",
        "  displacy.render(doc, style=\"ent\", options = options, jupyter = True )             "
      ],
      "execution_count": 91,
      "outputs": [
        {
          "output_type": "stream",
          "text": [
            "Actor                                             |Number                                            |Action                                            \n",
            "--------------------------------------------------------------------------------------------------------------------------------------------------------\n",
            "financial industry                                |                                                  |                                                  \n",
            "finance industry                                  |                                                  |                                                  \n",
            "maintained                                        |                                                  |                                                  \n"
          ],
          "name": "stdout"
        },
        {
          "output_type": "display_data",
          "data": {
            "text/html": [
              "<div class=\"entities\" style=\"line-height: 2.5; direction: ltr\">The rise of cryptocurrencies like Bitcoin and Ethereum has taken the \n",
              "<mark class=\"entity\" style=\"background: red; padding: 0.45em 0.6em; margin: 0 0.25em; line-height: 1; border-radius: 0.35em; box-decoration-break: clone; -webkit-box-decoration-break: clone\">\n",
              "    financial industry\n",
              "    <span style=\"font-size: 0.8em; font-weight: bold; line-height: 1; border-radius: 0.35em; text-transform: uppercase; vertical-align: middle; margin-left: 0.5rem\">actor</span>\n",
              "</mark>\n",
              " by storm. However, irrespective of what the future holds for bitcoin and its peers. The underlying technology blockchain will most certainly survive and is bound to make inroads in every sector. Even though the blockchain revolution started from banking and \n",
              "<mark class=\"entity\" style=\"background: red; padding: 0.45em 0.6em; margin: 0 0.25em; line-height: 1; border-radius: 0.35em; box-decoration-break: clone; -webkit-box-decoration-break: clone\">\n",
              "    finance industry\n",
              "    <span style=\"font-size: 0.8em; font-weight: bold; line-height: 1; border-radius: 0.35em; text-transform: uppercase; vertical-align: middle; margin-left: 0.5rem\">actor</span>\n",
              "</mark>\n",
              ", other industries like healthcare, energy, retail, governance, supply chain and agriculture are going to be disrupted by blockchain application. What is blockchain and why is it unique? The underlying technology blockchain is a distributed ledger technology that allows all members to record transactions in a decentralised data log \n",
              "<mark class=\"entity\" style=\"background: red; padding: 0.45em 0.6em; margin: 0 0.25em; line-height: 1; border-radius: 0.35em; box-decoration-break: clone; -webkit-box-decoration-break: clone\">\n",
              "    maintained\n",
              "    <span style=\"font-size: 0.8em; font-weight: bold; line-height: 1; border-radius: 0.35em; text-transform: uppercase; vertical-align: middle; margin-left: 0.5rem\">actor</span>\n",
              "</mark>\n",
              " on a network of computers, rather than a physical ledger or a single database. Transactions must be approved through consensus, and everything is secured through cryptography. In simpler terms think of blockchain as google sheets versus excel sheet sent through emails. In google sheets, all members have live access to Data and can independently record/track the updates of every entry being made. Add another layer on top of this, where entry once made is recorded permanently and cannot be edited or erased by any member.</div>"
            ],
            "text/plain": [
              "<IPython.core.display.HTML object>"
            ]
          },
          "metadata": {
            "tags": []
          }
        },
        {
          "output_type": "stream",
          "text": [
            "Actor                                             |Number                                            |Action                                            \n",
            "--------------------------------------------------------------------------------------------------------------------------------------------------------\n",
            "farmers                                           |                                                  |                                                  \n",
            "farmers                                           |                                                  |                                                  \n",
            "farmers                                           |                                                  |                                                  \n"
          ],
          "name": "stdout"
        },
        {
          "output_type": "display_data",
          "data": {
            "text/html": [
              "<div class=\"entities\" style=\"line-height: 2.5; direction: ltr\">[these: [these, they], we: [we, We], Local Bodies Minister Navjot Singh Sidhu: [Local Bodies Minister Navjot Singh Sidhu, Sidhu, he], regularisation: [regularisation, it], the issue of taking action: [the issue of taking action, The issue], \n",
              "<mark class=\"entity\" style=\"background: red; padding: 0.45em 0.6em; margin: 0 0.25em; line-height: 1; border-radius: 0.35em; box-decoration-break: clone; -webkit-box-decoration-break: clone\">\n",
              "    farmers\n",
              "    <span style=\"font-size: 0.8em; font-weight: bold; line-height: 1; border-radius: 0.35em; text-transform: uppercase; vertical-align: middle; margin-left: 0.5rem\">actor</span>\n",
              "</mark>\n",
              ": [\n",
              "<mark class=\"entity\" style=\"background: red; padding: 0.45em 0.6em; margin: 0 0.25em; line-height: 1; border-radius: 0.35em; box-decoration-break: clone; -webkit-box-decoration-break: clone\">\n",
              "    farmers\n",
              "    <span style=\"font-size: 0.8em; font-weight: bold; line-height: 1; border-radius: 0.35em; text-transform: uppercase; vertical-align: middle; margin-left: 0.5rem\">actor</span>\n",
              "</mark>\n",
              ", the \n",
              "<mark class=\"entity\" style=\"background: red; padding: 0.45em 0.6em; margin: 0 0.25em; line-height: 1; border-radius: 0.35em; box-decoration-break: clone; -webkit-box-decoration-break: clone\">\n",
              "    farmers\n",
              "    <span style=\"font-size: 0.8em; font-weight: bold; line-height: 1; border-radius: 0.35em; text-transform: uppercase; vertical-align: middle; margin-left: 0.5rem\">actor</span>\n",
              "</mark>\n",
              "], We: [We, Our, We], the exercise: [the exercise, it], the Punjab Urban Development Authority (PUDA): [the Punjab Urban Development Authority (PUDA), its], January 31: [January 31, January 31]]</div>"
            ],
            "text/plain": [
              "<IPython.core.display.HTML object>"
            ]
          },
          "metadata": {
            "tags": []
          }
        },
        {
          "output_type": "stream",
          "text": [
            "Actor                                             |Number                                            |Action                                            \n",
            "--------------------------------------------------------------------------------------------------------------------------------------------------------\n",
            "Both leaders                                      |                                                  |                                                  \n"
          ],
          "name": "stdout"
        },
        {
          "output_type": "display_data",
          "data": {
            "text/html": [
              "<div class=\"entities\" style=\"line-height: 2.5; direction: ltr\">[The friendship between Prime Minister Narendra Modi and his Israeli counterpart Benjamin Netanyahu: [The friendship between Prime Minister Narendra Modi and his Israeli counterpart Benjamin Netanyahu, they], Narendra Modi: [Narendra Modi, his], \n",
              "<mark class=\"entity\" style=\"background: red; padding: 0.45em 0.6em; margin: 0 0.25em; line-height: 1; border-radius: 0.35em; box-decoration-break: clone; -webkit-box-decoration-break: clone\">\n",
              "    Both leaders\n",
              "    <span style=\"font-size: 0.8em; font-weight: bold; line-height: 1; border-radius: 0.35em; text-transform: uppercase; vertical-align: middle; margin-left: 0.5rem\">actor</span>\n",
              "</mark>\n",
              ": [Both leaders, Both leaders], Netanyahu: [Netanyahu, his, his, Netanyahu, Netanyahu, Netanyahu, He, Netanyahu], a land which was a desert: [a land which was a desert, the land], We: [We, We, We, our, We], crop survival: [crop survival, it], they: [they, we], Mashav: [Mashav, its, Mashav, Mashav], India: [India, itself, India, India], Narendra Modi: [Narendra Modi, Modi, Modi, He, Modi, He, Modi], Israel: [Israel, its, Israel, Israel itself, Israel], latest technology: [latest technology, it], India: [India, India], we: [we, Our], Our Kutchi Patels: [Our Kutchi Patels, They]]</div>"
            ],
            "text/plain": [
              "<IPython.core.display.HTML object>"
            ]
          },
          "metadata": {
            "tags": []
          }
        },
        {
          "output_type": "stream",
          "text": [
            "Actor                                             |Number                                            |Action                                            \n",
            "--------------------------------------------------------------------------------------------------------------------------------------------------------\n",
            "Odisha government                                 |                                                  |                                                  \n"
          ],
          "name": "stdout"
        },
        {
          "output_type": "display_data",
          "data": {
            "text/html": [
              "<div class=\"entities\" style=\"line-height: 2.5; direction: ltr\">[Mahanadi water dispute between Odisha and Chhattisgarh: [Mahanadi water dispute between Odisha and Chhattisgarh, the dispute], Union water resources minister Nitin Gadkari: [Union water resources minister Nitin Gadkari, Gadkari], \n",
              "<mark class=\"entity\" style=\"background: red; padding: 0.45em 0.6em; margin: 0 0.25em; line-height: 1; border-radius: 0.35em; box-decoration-break: clone; -webkit-box-decoration-break: clone\">\n",
              "    Odisha government\n",
              "    <span style=\"font-size: 0.8em; font-weight: bold; line-height: 1; border-radius: 0.35em; text-transform: uppercase; vertical-align: middle; margin-left: 0.5rem\">actor</span>\n",
              "</mark>\n",
              ": [Odisha government, the Odisha government]]</div>"
            ],
            "text/plain": [
              "<IPython.core.display.HTML object>"
            ]
          },
          "metadata": {
            "tags": []
          }
        },
        {
          "output_type": "stream",
          "text": [
            "Actor                                             |Number                                            |Action                                            \n",
            "--------------------------------------------------------------------------------------------------------------------------------------------------------\n",
            "state government                                  |                                                  |                                                  \n"
          ],
          "name": "stdout"
        },
        {
          "output_type": "display_data",
          "data": {
            "text/html": [
              "<div class=\"entities\" style=\"line-height: 2.5; direction: ltr\">[actor Prakash Raj: [actor Prakash Raj, Raj], a political party: [a political party, it, our party, we, We, our, us], the water: [the water, the water], Opposition BJP: [Opposition BJP, BJP], the bandh: [the bandh, it], Karnataka: [Karnataka, Karnataka, Karnataka, Karnataka, Karnataka, neighbouring Karnataka, Karnataka, its], Goa: [Goa, Goa, Goa, Goa, it, its], the Mahadayi Water Dispute Tribunal: [the Mahadayi Water Dispute Tribunal, the tribunal, The tribunal], the \n",
              "<mark class=\"entity\" style=\"background: red; padding: 0.45em 0.6em; margin: 0 0.25em; line-height: 1; border-radius: 0.35em; box-decoration-break: clone; -webkit-box-decoration-break: clone\">\n",
              "    state government\n",
              "    <span style=\"font-size: 0.8em; font-weight: bold; line-height: 1; border-radius: 0.35em; text-transform: uppercase; vertical-align: middle; margin-left: 0.5rem\">actor</span>\n",
              "</mark>\n",
              ": [the state government, The Goa government], the work on the construction of the canal, which was aimed at diverting water from the Mahadayi tributary: [the work on the construction of the canal, which was aimed at diverting water from the Mahadayi tributary, the work]]</div>"
            ],
            "text/plain": [
              "<IPython.core.display.HTML object>"
            ]
          },
          "metadata": {
            "tags": []
          }
        },
        {
          "output_type": "stream",
          "text": [
            "Actor                                             |Number                                            |Action                                            \n",
            "--------------------------------------------------------------------------------------------------------------------------------------------------------\n",
            "farmer                                            |                                                  |                                                  \n",
            "farmer                                            |                                                  |                                                  \n",
            "the government                                    |                                                  |                                                  \n"
          ],
          "name": "stdout"
        },
        {
          "output_type": "display_data",
          "data": {
            "text/html": [
              "<div class=\"entities\" style=\"line-height: 2.5; direction: ltr\">[The son of the 84-year-old \n",
              "<mark class=\"entity\" style=\"background: red; padding: 0.45em 0.6em; margin: 0 0.25em; line-height: 1; border-radius: 0.35em; box-decoration-break: clone; -webkit-box-decoration-break: clone\">\n",
              "    farmer\n",
              "    <span style=\"font-size: 0.8em; font-weight: bold; line-height: 1; border-radius: 0.35em; text-transform: uppercase; vertical-align: middle; margin-left: 0.5rem\">actor</span>\n",
              "</mark>\n",
              " from Dhule who consumed poison in Mantralaya last week and died on Sunday: [The son of the 84-year-old \n",
              "<mark class=\"entity\" style=\"background: red; padding: 0.45em 0.6em; margin: 0 0.25em; line-height: 1; border-radius: 0.35em; box-decoration-break: clone; -webkit-box-decoration-break: clone\">\n",
              "    farmer\n",
              "    <span style=\"font-size: 0.8em; font-weight: bold; line-height: 1; border-radius: 0.35em; text-transform: uppercase; vertical-align: middle; margin-left: 0.5rem\">actor</span>\n",
              "</mark>\n",
              " from Dhule who consumed poison in Mantralaya last week and died on Sunday, his], his body: [his body, his body], JJ: [JJ, JJ], Narendra Patil, son: [Narendra Patil, son, his], \n",
              "<mark class=\"entity\" style=\"background: red; padding: 0.45em 0.6em; margin: 0 0.25em; line-height: 1; border-radius: 0.35em; box-decoration-break: clone; -webkit-box-decoration-break: clone\">\n",
              "    the government\n",
              "    <span style=\"font-size: 0.8em; font-weight: bold; line-height: 1; border-radius: 0.35em; text-transform: uppercase; vertical-align: middle; margin-left: 0.5rem\">actor</span>\n",
              "</mark>\n",
              ": [the government, the government, the government, the government], my father: [my father, his], Dharma Patil: [Dharma Patil, Dharma Patil, Dharma Patil's, he]]</div>"
            ],
            "text/plain": [
              "<IPython.core.display.HTML object>"
            ]
          },
          "metadata": {
            "tags": []
          }
        },
        {
          "output_type": "stream",
          "text": [
            "Actor                                             |Number                                            |Action                                            \n",
            "--------------------------------------------------------------------------------------------------------------------------------------------------------\n",
            "Chief Justice                                     |                                                  |                                                  \n"
          ],
          "name": "stdout"
        },
        {
          "output_type": "display_data",
          "data": {
            "text/html": [
              "<div class=\"entities\" style=\"line-height: 2.5; direction: ltr\">[the Bench: [A Bench of Acting \n",
              "<mark class=\"entity\" style=\"background: red; padding: 0.45em 0.6em; margin: 0 0.25em; line-height: 1; border-radius: 0.35em; box-decoration-break: clone; -webkit-box-decoration-break: clone\">\n",
              "    Chief Justice\n",
              "    <span style=\"font-size: 0.8em; font-weight: bold; line-height: 1; border-radius: 0.35em; text-transform: uppercase; vertical-align: middle; margin-left: 0.5rem\">actor</span>\n",
              "</mark>\n",
              " Gita Mittal and Justice C. Hari Shankar, the Bench, The Bench], the area: [the area, the area], the deplorable conditions of slum dwellers residing near Kushak Nallah: [the deplorable conditions of slum dwellers residing near Kushak Nallah, The conditions], the petition: [the petition, The petition], some of the residents: [some of the residents, their]]</div>"
            ],
            "text/plain": [
              "<IPython.core.display.HTML object>"
            ]
          },
          "metadata": {
            "tags": []
          }
        },
        {
          "output_type": "stream",
          "text": [
            "Actor                                             |Number                                            |Action                                            \n",
            "--------------------------------------------------------------------------------------------------------------------------------------------------------\n",
            "Standing Committee                                |                                                  |                                                  \n"
          ],
          "name": "stdout"
        },
        {
          "output_type": "display_data",
          "data": {
            "text/html": [
              "<div class=\"entities\" style=\"line-height: 2.5; direction: ltr\">[the 1750-MW Demwe Lower Hydroelectric Project in Lohit district to re-examine the ecological impacts of the hydro power project: [the 1750-MW Demwe Lower Hydroelectric Project in Lohit district to re-examine the ecological impacts of the hydro power project, the project], \n",
              "<mark class=\"entity\" style=\"background: red; padding: 0.45em 0.6em; margin: 0 0.25em; line-height: 1; border-radius: 0.35em; box-decoration-break: clone; -webkit-box-decoration-break: clone\">\n",
              "    Standing Committee\n",
              "    <span style=\"font-size: 0.8em; font-weight: bold; line-height: 1; border-radius: 0.35em; text-transform: uppercase; vertical-align: middle; margin-left: 0.5rem\">actor</span>\n",
              "</mark>\n",
              ": [Standing Committee, The Standing Committee], The National Green Tribunal (NGT): [The National Green Tribunal (NGT), the Tribunal, The Tribunal, It], The former minister in 2012: [The former minister in 2012, the minister], the Arunachal Pradesh Government: [the state government, the Arunachal Pradesh Government], The Demwe Lower Hydroelectric Project: [the hydel project, The Demwe Lower Hydroelectric Project, the project]]</div>"
            ],
            "text/plain": [
              "<IPython.core.display.HTML object>"
            ]
          },
          "metadata": {
            "tags": []
          }
        },
        {
          "output_type": "stream",
          "text": [
            "Actor                                             |Number                                            |Action                                            \n",
            "--------------------------------------------------------------------------------------------------------------------------------------------------------\n",
            "the government                                    |                                                  |                                                  \n",
            "Chief Minister                                    |                                                  |                                                  \n",
            "several opposition members                        |                                                  |                                                  \n",
            "NC MLA                                            |                                                  |                                                  \n",
            "Ganderbal district                                |                                                  |                                                  \n",
            "this government                                   |                                                  |                                                  \n"
          ],
          "name": "stdout"
        },
        {
          "output_type": "display_data",
          "data": {
            "text/html": [
              "<div class=\"entities\" style=\"line-height: 2.5; direction: ltr\">[\n",
              "<mark class=\"entity\" style=\"background: red; padding: 0.45em 0.6em; margin: 0 0.25em; line-height: 1; border-radius: 0.35em; box-decoration-break: clone; -webkit-box-decoration-break: clone\">\n",
              "    the government\n",
              "    <span style=\"font-size: 0.8em; font-weight: bold; line-height: 1; border-radius: 0.35em; text-transform: uppercase; vertical-align: middle; margin-left: 0.5rem\">actor</span>\n",
              "</mark>\n",
              ": [the government, the government, the state government, its, the government, the government], MLA Ali Mohammad Sagar: [MLA Ali Mohammad Sagar, Sagar, its, Sagar, Sagar, Sagar, Sagar, He, he], the power crisis in the state: [the power crisis in the state, the power crisis in the state], the state: [the state, the state, the state, it, its, its], Parliamentary Affairs Minister A R Veeri: [Parliamentary Affairs Minister A R Veeri, his], \n",
              "<mark class=\"entity\" style=\"background: red; padding: 0.45em 0.6em; margin: 0 0.25em; line-height: 1; border-radius: 0.35em; box-decoration-break: clone; -webkit-box-decoration-break: clone\">\n",
              "    Chief Minister\n",
              "    <span style=\"font-size: 0.8em; font-weight: bold; line-height: 1; border-radius: 0.35em; text-transform: uppercase; vertical-align: middle; margin-left: 0.5rem\">actor</span>\n",
              "</mark>\n",
              " Mehbooba Mufti: [Chief Minister Mehbooba Mufti, he, The power minister, the deputy chief minister, Education Minister Syed Altaf Bukhari], We: [We, we], the House: [the House, the House], the opposition on the directions of unidentified forces: [the opposition on the directions of unidentified forces, the opposition], the people of Kashmir: [the people of Kashmir, these projects], Kashmir: [Kashmir, Kashmir], Kashmir and Jammu: [Kashmir and Jammu, Both regions], the valley: [the valley, the valley], \n",
              "<mark class=\"entity\" style=\"background: red; padding: 0.45em 0.6em; margin: 0 0.25em; line-height: 1; border-radius: 0.35em; box-decoration-break: clone; -webkit-box-decoration-break: clone\">\n",
              "    several opposition members\n",
              "    <span style=\"font-size: 0.8em; font-weight: bold; line-height: 1; border-radius: 0.35em; text-transform: uppercase; vertical-align: middle; margin-left: 0.5rem\">actor</span>\n",
              "</mark>\n",
              ": [several opposition members, their], an eight-year-old girl in Kathua district: [an eight-year-old girl in Kathua district, the minor girl, the girl], \n",
              "<mark class=\"entity\" style=\"background: red; padding: 0.45em 0.6em; margin: 0 0.25em; line-height: 1; border-radius: 0.35em; box-decoration-break: clone; -webkit-box-decoration-break: clone\">\n",
              "    NC MLA\n",
              "    <span style=\"font-size: 0.8em; font-weight: bold; line-height: 1; border-radius: 0.35em; text-transform: uppercase; vertical-align: middle; margin-left: 0.5rem\">actor</span>\n",
              "</mark>\n",
              " Ishfaq Jabbar: [NC MLA Ishfaq Jabbar, they], \n",
              "<mark class=\"entity\" style=\"background: red; padding: 0.45em 0.6em; margin: 0 0.25em; line-height: 1; border-radius: 0.35em; box-decoration-break: clone; -webkit-box-decoration-break: clone\">\n",
              "    Ganderbal district\n",
              "    <span style=\"font-size: 0.8em; font-weight: bold; line-height: 1; border-radius: 0.35em; text-transform: uppercase; vertical-align: middle; margin-left: 0.5rem\">actor</span>\n",
              "</mark>\n",
              ": [Ganderbal district, the district], the House: [the House, the House], Mir: [Relief and Rehabilitation minister Javaid Mustafa Mir, He, Mir], \n",
              "<mark class=\"entity\" style=\"background: red; padding: 0.45em 0.6em; margin: 0 0.25em; line-height: 1; border-radius: 0.35em; box-decoration-break: clone; -webkit-box-decoration-break: clone\">\n",
              "    this government\n",
              "    <span style=\"font-size: 0.8em; font-weight: bold; line-height: 1; border-radius: 0.35em; text-transform: uppercase; vertical-align: middle; margin-left: 0.5rem\">actor</span>\n",
              "</mark>\n",
              ": [this government, the government]]</div>"
            ],
            "text/plain": [
              "<IPython.core.display.HTML object>"
            ]
          },
          "metadata": {
            "tags": []
          }
        },
        {
          "output_type": "stream",
          "text": [
            "Actor                                             |Number                                            |Action                                            \n",
            "--------------------------------------------------------------------------------------------------------------------------------------------------------\n",
            "TRS government                                    |                                                  |                                                  \n"
          ],
          "name": "stdout"
        },
        {
          "output_type": "display_data",
          "data": {
            "text/html": [
              "<div class=\"entities\" style=\"line-height: 2.5; direction: ltr\">[Ex-MLC Arkala Narsa Reddy: [Ex-MLC Arkala Narsa Reddy, he, he, He, he, he], the \n",
              "<mark class=\"entity\" style=\"background: red; padding: 0.45em 0.6em; margin: 0 0.25em; line-height: 1; border-radius: 0.35em; box-decoration-break: clone; -webkit-box-decoration-break: clone\">\n",
              "    TRS government\n",
              "    <span style=\"font-size: 0.8em; font-weight: bold; line-height: 1; border-radius: 0.35em; text-transform: uppercase; vertical-align: middle; margin-left: 0.5rem\">actor</span>\n",
              "</mark>\n",
              ": [the TRS government, the then Congress government, their government], Nizamabad: [Nizamabad, its], its water: [its water, the water], the Pranahitha Packages 20-22: [the Pranahitha Packages 20-22, these packages], TRS: [TRS, the TRS, They, their], Mahabubnagar and Khammam districts: [Mahabubnagar and Khammam districts, their], Narsa Reddy: [Narsa Reddy, He, he], the districts: [the districts, the districts]]</div>"
            ],
            "text/plain": [
              "<IPython.core.display.HTML object>"
            ]
          },
          "metadata": {
            "tags": []
          }
        },
        {
          "output_type": "stream",
          "text": [
            "Actor                                             |Number                                            |Action                                            \n",
            "--------------------------------------------------------------------------------------------------------------------------------------------------------\n",
            "runway                                            |                                                  |                                                  \n",
            "runway                                            |                                                  |                                                  \n"
          ],
          "name": "stdout"
        },
        {
          "output_type": "display_data",
          "data": {
            "text/html": [
              "<div class=\"entities\" style=\"line-height: 2.5; direction: ltr\">[A cow running across an airport \n",
              "<mark class=\"entity\" style=\"background: red; padding: 0.45em 0.6em; margin: 0 0.25em; line-height: 1; border-radius: 0.35em; box-decoration-break: clone; -webkit-box-decoration-break: clone\">\n",
              "    runway\n",
              "    <span style=\"font-size: 0.8em; font-weight: bold; line-height: 1; border-radius: 0.35em; text-transform: uppercase; vertical-align: middle; margin-left: 0.5rem\">actor</span>\n",
              "</mark>\n",
              " in India: [A cow running across an airport \n",
              "<mark class=\"entity\" style=\"background: red; padding: 0.45em 0.6em; margin: 0 0.25em; line-height: 1; border-radius: 0.35em; box-decoration-break: clone; -webkit-box-decoration-break: clone\">\n",
              "    runway\n",
              "    <span style=\"font-size: 0.8em; font-weight: bold; line-height: 1; border-radius: 0.35em; text-transform: uppercase; vertical-align: middle; margin-left: 0.5rem\">actor</span>\n",
              "</mark>\n",
              " in India, the plane, its, the cow], India: [India, India, India], Etihad Airways: [Etihad Airways, its], the bizarre incident: [the bizarre incident, the incident]]</div>"
            ],
            "text/plain": [
              "<IPython.core.display.HTML object>"
            ]
          },
          "metadata": {
            "tags": []
          }
        },
        {
          "output_type": "stream",
          "text": [
            "Actor                                             |Number                                            |Action                                            \n",
            "--------------------------------------------------------------------------------------------------------------------------------------------------------\n",
            "Supreme Court                                     |                                                  |                                                  \n"
          ],
          "name": "stdout"
        },
        {
          "output_type": "display_data",
          "data": {
            "text/html": [
              "<div class=\"entities\" style=\"line-height: 2.5; direction: ltr\">[\n",
              "<mark class=\"entity\" style=\"background: red; padding: 0.45em 0.6em; margin: 0 0.25em; line-height: 1; border-radius: 0.35em; box-decoration-break: clone; -webkit-box-decoration-break: clone\">\n",
              "    Supreme Court\n",
              "    <span style=\"font-size: 0.8em; font-weight: bold; line-height: 1; border-radius: 0.35em; text-transform: uppercase; vertical-align: middle; margin-left: 0.5rem\">actor</span>\n",
              "</mark>\n",
              ": [Supreme Court, the Supreme Court, the Supreme Court, its], the pollution crisis in the national capital region: [the pollution crisis in the national capital region, the crisis], Delhi: [Delhi, Delhi], the Centre’s comprehensive plan to tackle the problem of stubble burning in neighbouring states of Delhi: [the Centre’s comprehensive plan to tackle the problem of stubble burning in neighbouring states of Delhi, The Centre’s plan to combat air pollution], the Centre: [the Centre, the Centre, the Centre, the Centre], the machinery: [the machinery, the machinery], the bench: [the bench, the bench]]</div>"
            ],
            "text/plain": [
              "<IPython.core.display.HTML object>"
            ]
          },
          "metadata": {
            "tags": []
          }
        },
        {
          "output_type": "stream",
          "text": [
            "Actor                                             |Number                                            |Action                                            \n",
            "--------------------------------------------------------------------------------------------------------------------------------------------------------\n"
          ],
          "name": "stdout"
        },
        {
          "output_type": "stream",
          "text": [
            "/usr/lib/python3.6/runpy.py:193: UserWarning: [W006] No entities to visualize found in Doc object. If this is surprising to you, make sure the Doc was processed using a model that supports named entity recognition, and check the `doc.ents` property manually if necessary.\n",
            "  \"__main__\", mod_spec)\n"
          ],
          "name": "stderr"
        },
        {
          "output_type": "display_data",
          "data": {
            "text/html": [
              "<div class=\"entities\" style=\"line-height: 2.5; direction: ltr\">[Australia: [Australia, Australia], Australia’s new Agriculture and Water Minister: [Australia’s new Agriculture and Water Minister, his], David Littleproud: [David Littleproud, he, David Littleproud]]</div>"
            ],
            "text/plain": [
              "<IPython.core.display.HTML object>"
            ]
          },
          "metadata": {
            "tags": []
          }
        },
        {
          "output_type": "stream",
          "text": [
            "Actor                                             |Number                                            |Action                                            \n",
            "--------------------------------------------------------------------------------------------------------------------------------------------------------\n",
            "Farmers                                           |                                                  |protesting                                        \n",
            "farmers                                           |                                                  |                                                  \n",
            "farmers                                           |                                                  |                                                  \n",
            "farmers                                           |                                                  |                                                  \n"
          ],
          "name": "stdout"
        },
        {
          "output_type": "display_data",
          "data": {
            "text/html": [
              "<div class=\"entities\" style=\"line-height: 2.5; direction: ltr\">[Lucknow: [Lucknow, Lucknow], \n",
              "<mark class=\"entity\" style=\"background: red; padding: 0.45em 0.6em; margin: 0 0.25em; line-height: 1; border-radius: 0.35em; box-decoration-break: clone; -webkit-box-decoration-break: clone\">\n",
              "    Farmers\n",
              "    <span style=\"font-size: 0.8em; font-weight: bold; line-height: 1; border-radius: 0.35em; text-transform: uppercase; vertical-align: middle; margin-left: 0.5rem\">actor</span>\n",
              "</mark>\n",
              " \n",
              "<mark class=\"entity\" style=\"background: blue; padding: 0.45em 0.6em; margin: 0 0.25em; line-height: 1; border-radius: 0.35em; box-decoration-break: clone; -webkit-box-decoration-break: clone\">\n",
              "    protesting\n",
              "    <span style=\"font-size: 0.8em; font-weight: bold; line-height: 1; border-radius: 0.35em; text-transform: uppercase; vertical-align: middle; margin-left: 0.5rem\">action</span>\n",
              "</mark>\n",
              " low potato prices on Saturday morning: [Farmers protesting low potato prices on Saturday morning, their], The \n",
              "<mark class=\"entity\" style=\"background: red; padding: 0.45em 0.6em; margin: 0 0.25em; line-height: 1; border-radius: 0.35em; box-decoration-break: clone; -webkit-box-decoration-break: clone\">\n",
              "    farmers\n",
              "    <span style=\"font-size: 0.8em; font-weight: bold; line-height: 1; border-radius: 0.35em; text-transform: uppercase; vertical-align: middle; margin-left: 0.5rem\">actor</span>\n",
              "</mark>\n",
              ": [The \n",
              "<mark class=\"entity\" style=\"background: red; padding: 0.45em 0.6em; margin: 0 0.25em; line-height: 1; border-radius: 0.35em; box-decoration-break: clone; -webkit-box-decoration-break: clone\">\n",
              "    farmers\n",
              "    <span style=\"font-size: 0.8em; font-weight: bold; line-height: 1; border-radius: 0.35em; text-transform: uppercase; vertical-align: middle; margin-left: 0.5rem\">actor</span>\n",
              "</mark>\n",
              ", they], Harnam Singh, a Bharatiya Kisan Union leader: [Harnam Singh, a Bharatiya Kisan Union leader, his, him, he, Singh, he, Singh, he], \n",
              "<mark class=\"entity\" style=\"background: red; padding: 0.45em 0.6em; margin: 0 0.25em; line-height: 1; border-radius: 0.35em; box-decoration-break: clone; -webkit-box-decoration-break: clone\">\n",
              "    farmers\n",
              "    <span style=\"font-size: 0.8em; font-weight: bold; line-height: 1; border-radius: 0.35em; text-transform: uppercase; vertical-align: middle; margin-left: 0.5rem\">actor</span>\n",
              "</mark>\n",
              "': [farmers', the farmers, the farmers, their], The state: [The state, it, the state], BJP: [BJP, the BJP, BJP, them], We: [We, We], Adityanath: [Adityanath, his]]</div>"
            ],
            "text/plain": [
              "<IPython.core.display.HTML object>"
            ]
          },
          "metadata": {
            "tags": []
          }
        },
        {
          "output_type": "stream",
          "text": [
            "Actor                                             |Number                                            |Action                                            \n",
            "--------------------------------------------------------------------------------------------------------------------------------------------------------\n",
            "state Congress president                          |                                                  |                                                  \n"
          ],
          "name": "stdout"
        },
        {
          "output_type": "display_data",
          "data": {
            "text/html": [
              "<div class=\"entities\" style=\"line-height: 2.5; direction: ltr\">[the NCP: [the NCP, NCP], tourism minister Jaykumar Rawal: [tourism minister Jaykumar Rawal, his, him, Rawal, Rawal, he, Rawal, Rawal, her, Rawal], NCP spokesperson Nawab Malik: [NCP spokesperson Nawab Malik, Malik, Malik, He, ” Malik, Malik, Malik], a land acquisition notification: [a land acquisition notification, the notification], We: [We, We], a high-level meeting: [a high-level meeting, the meeting], Patil’s: [Patil’s, Patil’s, Patil’s, He, his], Patil’s demand: [Patil’s demand, it], the Rawal family: [the Rawal family, the family], the CM: [the CM, SP and ACB, the CM], Patil’s death: [Patil’s death, his death], former President Pratibha Patil: [former President Pratibha Patil, Pratibha Patil, he, me, me], “: [“, “], the charges: [the charges, All charges against me], the then government: [the then government, the BJP-led government, the government], officials: [officials, these officials], some land: [some land, it, It], \n",
              "<mark class=\"entity\" style=\"background: red; padding: 0.45em 0.6em; margin: 0 0.25em; line-height: 1; border-radius: 0.35em; box-decoration-break: clone; -webkit-box-decoration-break: clone\">\n",
              "    state Congress president\n",
              "    <span style=\"font-size: 0.8em; font-weight: bold; line-height: 1; border-radius: 0.35em; text-transform: uppercase; vertical-align: middle; margin-left: 0.5rem\">actor</span>\n",
              "</mark>\n",
              " Ashok Chavan: [state Congress president Ashok Chavan, he, Chavan, he, he, Chavan], Patil submitted several memorandums to Bawankule: [Patil submitted several memorandums to Bawankule, they]]</div>"
            ],
            "text/plain": [
              "<IPython.core.display.HTML object>"
            ]
          },
          "metadata": {
            "tags": []
          }
        },
        {
          "output_type": "stream",
          "text": [
            "Actor                                             |Number                                            |Action                                            \n",
            "--------------------------------------------------------------------------------------------------------------------------------------------------------\n",
            "New Delhi                                         |                                                  |                                                  \n",
            "Delhi Jal Board                                   |                                                  |                                                  \n",
            "Delhi Jal Board                                   |                                                  |                                                  \n"
          ],
          "name": "stdout"
        },
        {
          "output_type": "display_data",
          "data": {
            "text/html": [
              "<div class=\"entities\" style=\"line-height: 2.5; direction: ltr\">[\n",
              "<mark class=\"entity\" style=\"background: red; padding: 0.45em 0.6em; margin: 0 0.25em; line-height: 1; border-radius: 0.35em; box-decoration-break: clone; -webkit-box-decoration-break: clone\">\n",
              "    New Delhi\n",
              "    <span style=\"font-size: 0.8em; font-weight: bold; line-height: 1; border-radius: 0.35em; text-transform: uppercase; vertical-align: middle; margin-left: 0.5rem\">actor</span>\n",
              "</mark>\n",
              ": [New Delhi, Delhi, Delhi], Yamuna: [Yamuna, Yamuna], The \n",
              "<mark class=\"entity\" style=\"background: red; padding: 0.45em 0.6em; margin: 0 0.25em; line-height: 1; border-radius: 0.35em; box-decoration-break: clone; -webkit-box-decoration-break: clone\">\n",
              "    Delhi Jal Board\n",
              "    <span style=\"font-size: 0.8em; font-weight: bold; line-height: 1; border-radius: 0.35em; text-transform: uppercase; vertical-align: middle; margin-left: 0.5rem\">actor</span>\n",
              "</mark>\n",
              ": [The \n",
              "<mark class=\"entity\" style=\"background: red; padding: 0.45em 0.6em; margin: 0 0.25em; line-height: 1; border-radius: 0.35em; box-decoration-break: clone; -webkit-box-decoration-break: clone\">\n",
              "    Delhi Jal Board\n",
              "    <span style=\"font-size: 0.8em; font-weight: bold; line-height: 1; border-radius: 0.35em; text-transform: uppercase; vertical-align: middle; margin-left: 0.5rem\">actor</span>\n",
              "</mark>\n",
              ", the board]]</div>"
            ],
            "text/plain": [
              "<IPython.core.display.HTML object>"
            ]
          },
          "metadata": {
            "tags": []
          }
        },
        {
          "output_type": "stream",
          "text": [
            "Actor                                             |Number                                            |Action                                            \n",
            "--------------------------------------------------------------------------------------------------------------------------------------------------------\n",
            "Supreme Court                                     |                                                  |been affected                                     \n",
            "public                                            |                                                  |elevated road where the work is still on, however, bajri stock here will last only till January 15. With no solution in sight for the bajri problem, it is unlikely that work\n",
            "JDC                                               |                                                  |                                                  \n",
            "voters                                            |                                                  |                                                  \n"
          ],
          "name": "stdout"
        },
        {
          "output_type": "display_data",
          "data": {
            "text/html": [
              "<div class=\"entities\" style=\"line-height: 2.5; direction: ltr\">The \n",
              "<mark class=\"entity\" style=\"background: red; padding: 0.45em 0.6em; margin: 0 0.25em; line-height: 1; border-radius: 0.35em; box-decoration-break: clone; -webkit-box-decoration-break: clone\">\n",
              "    Supreme Court\n",
              "    <span style=\"font-size: 0.8em; font-weight: bold; line-height: 1; border-radius: 0.35em; text-transform: uppercase; vertical-align: middle; margin-left: 0.5rem\">actor</span>\n",
              "</mark>\n",
              " ban on sand mining has disturbed BJP’s poll calculation. BJP was banking on several big projects in Jaipur to reap benefit in assembly election later this year. However, shortage of bajri has put brakes on most of several big projects in Jaipur except Dravyavati River, which is using crasher dust. Following The Supreme Court ban on sand mining, sand mining from Banas River has stopped for more than a month. While, every section of the \n",
              "<mark class=\"entity\" style=\"background: red; padding: 0.45em 0.6em; margin: 0 0.25em; line-height: 1; border-radius: 0.35em; box-decoration-break: clone; -webkit-box-decoration-break: clone\">\n",
              "    public\n",
              "    <span style=\"font-size: 0.8em; font-weight: bold; line-height: 1; border-radius: 0.35em; text-transform: uppercase; vertical-align: middle; margin-left: 0.5rem\">actor</span>\n",
              "</mark>\n",
              " has \n",
              "<mark class=\"entity\" style=\"background: blue; padding: 0.45em 0.6em; margin: 0 0.25em; line-height: 1; border-radius: 0.35em; box-decoration-break: clone; -webkit-box-decoration-break: clone\">\n",
              "    been affected\n",
              "    <span style=\"font-size: 0.8em; font-weight: bold; line-height: 1; border-radius: 0.35em; text-transform: uppercase; vertical-align: middle; margin-left: 0.5rem\">action</span>\n",
              "</mark>\n",
              " by the ban, Jaipur Development Authority (JDA) is worst affected as work on around half a dozen projects has been stalled. The only project where the work is continuing is Dravyavati River project because the \n",
              "<mark class=\"entity\" style=\"background: red; padding: 0.45em 0.6em; margin: 0 0.25em; line-height: 1; border-radius: 0.35em; box-decoration-break: clone; -webkit-box-decoration-break: clone\">\n",
              "    JDC\n",
              "    <span style=\"font-size: 0.8em; font-weight: bold; line-height: 1; border-radius: 0.35em; text-transform: uppercase; vertical-align: middle; margin-left: 0.5rem\">actor</span>\n",
              "</mark>\n",
              " has given permission to use crasher dust. Another project is Sodala \n",
              "<mark class=\"entity\" style=\"background: blue; padding: 0.45em 0.6em; margin: 0 0.25em; line-height: 1; border-radius: 0.35em; box-decoration-break: clone; -webkit-box-decoration-break: clone\">\n",
              "    elevated road where the work is still on, however, bajri stock here will last only till January 15. With no solution in sight for the bajri problem, it is unlikely that work\n",
              "    <span style=\"font-size: 0.8em; font-weight: bold; line-height: 1; border-radius: 0.35em; text-transform: uppercase; vertical-align: middle; margin-left: 0.5rem\">action</span>\n",
              "</mark>\n",
              " on these important projects will commence anytime soon. What this means is that they would not be finished before assembly elections and may rob the ruling BJP of a chance to impress upon \n",
              "<mark class=\"entity\" style=\"background: red; padding: 0.45em 0.6em; margin: 0 0.25em; line-height: 1; border-radius: 0.35em; box-decoration-break: clone; -webkit-box-decoration-break: clone\">\n",
              "    voters\n",
              "    <span style=\"font-size: 0.8em; font-weight: bold; line-height: 1; border-radius: 0.35em; text-transform: uppercase; vertical-align: middle; margin-left: 0.5rem\">actor</span>\n",
              "</mark>\n",
              ".</div>"
            ],
            "text/plain": [
              "<IPython.core.display.HTML object>"
            ]
          },
          "metadata": {
            "tags": []
          }
        },
        {
          "output_type": "stream",
          "text": [
            "Actor                                             |Number                                            |Action                                            \n",
            "--------------------------------------------------------------------------------------------------------------------------------------------------------\n",
            "forest officials                                  |                                                  |attacked                                          \n",
            "farmer                                            |                                                  |killed                                            \n",
            "farmer                                            |                                                  |                                                  \n",
            "tiger                                             |                                                  |                                                  \n",
            "farmer                                            |                                                  |                                                  \n",
            "forest officials                                  |                                                  |                                                  \n",
            "forest officials                                  |                                                  |                                                  \n",
            "tiger                                             |                                                  |                                                  \n",
            "farmer                                            |                                                  |                                                  \n",
            "tiger                                             |                                                  |                                                  \n",
            "tiger                                             |                                                  |                                                  \n"
          ],
          "name": "stdout"
        },
        {
          "output_type": "display_data",
          "data": {
            "text/html": [
              "<div class=\"entities\" style=\"line-height: 2.5; direction: ltr\">Advertisement But the efforts made by the \n",
              "<mark class=\"entity\" style=\"background: red; padding: 0.45em 0.6em; margin: 0 0.25em; line-height: 1; border-radius: 0.35em; box-decoration-break: clone; -webkit-box-decoration-break: clone\">\n",
              "    forest officials\n",
              "    <span style=\"font-size: 0.8em; font-weight: bold; line-height: 1; border-radius: 0.35em; text-transform: uppercase; vertical-align: middle; margin-left: 0.5rem\">actor</span>\n",
              "</mark>\n",
              " bore no fruit. Soon after the incident, an irate mob blocked the road leading from village Loni to Zadgaon in Ralegaon tehsil.The \n",
              "<mark class=\"entity\" style=\"background: red; padding: 0.45em 0.6em; margin: 0 0.25em; line-height: 1; border-radius: 0.35em; box-decoration-break: clone; -webkit-box-decoration-break: clone\">\n",
              "    farmer\n",
              "    <span style=\"font-size: 0.8em; font-weight: bold; line-height: 1; border-radius: 0.35em; text-transform: uppercase; vertical-align: middle; margin-left: 0.5rem\">actor</span>\n",
              "</mark>\n",
              " had gone to The \n",
              "<mark class=\"entity\" style=\"background: red; padding: 0.45em 0.6em; margin: 0 0.25em; line-height: 1; border-radius: 0.35em; box-decoration-break: clone; -webkit-box-decoration-break: clone\">\n",
              "    farmer\n",
              "    <span style=\"font-size: 0.8em; font-weight: bold; line-height: 1; border-radius: 0.35em; text-transform: uppercase; vertical-align: middle; margin-left: 0.5rem\">actor</span>\n",
              "</mark>\n",
              " farm, situated 2 kms from village Loni along the Loni-Zadgaon road, when the \n",
              "<mark class=\"entity\" style=\"background: red; padding: 0.45em 0.6em; margin: 0 0.25em; line-height: 1; border-radius: 0.35em; box-decoration-break: clone; -webkit-box-decoration-break: clone\">\n",
              "    tiger\n",
              "    <span style=\"font-size: 0.8em; font-weight: bold; line-height: 1; border-radius: 0.35em; text-transform: uppercase; vertical-align: middle; margin-left: 0.5rem\">actor</span>\n",
              "</mark>\n",
              " \n",
              "<mark class=\"entity\" style=\"background: blue; padding: 0.45em 0.6em; margin: 0 0.25em; line-height: 1; border-radius: 0.35em; box-decoration-break: clone; -webkit-box-decoration-break: clone\">\n",
              "    attacked\n",
              "    <span style=\"font-size: 0.8em; font-weight: bold; line-height: 1; border-radius: 0.35em; text-transform: uppercase; vertical-align: middle; margin-left: 0.5rem\">action</span>\n",
              "</mark>\n",
              " The \n",
              "<mark class=\"entity\" style=\"background: red; padding: 0.45em 0.6em; margin: 0 0.25em; line-height: 1; border-radius: 0.35em; box-decoration-break: clone; -webkit-box-decoration-break: clone\">\n",
              "    farmer\n",
              "    <span style=\"font-size: 0.8em; font-weight: bold; line-height: 1; border-radius: 0.35em; text-transform: uppercase; vertical-align: middle; margin-left: 0.5rem\">actor</span>\n",
              "</mark>\n",
              ". the \n",
              "<mark class=\"entity\" style=\"background: red; padding: 0.45em 0.6em; margin: 0 0.25em; line-height: 1; border-radius: 0.35em; box-decoration-break: clone; -webkit-box-decoration-break: clone\">\n",
              "    forest officials\n",
              "    <span style=\"font-size: 0.8em; font-weight: bold; line-height: 1; border-radius: 0.35em; text-transform: uppercase; vertical-align: middle; margin-left: 0.5rem\">actor</span>\n",
              "</mark>\n",
              " have already obtained the permission from the \n",
              "<mark class=\"entity\" style=\"background: red; padding: 0.45em 0.6em; margin: 0 0.25em; line-height: 1; border-radius: 0.35em; box-decoration-break: clone; -webkit-box-decoration-break: clone\">\n",
              "    forest officials\n",
              "    <span style=\"font-size: 0.8em; font-weight: bold; line-height: 1; border-radius: 0.35em; text-transform: uppercase; vertical-align: middle; margin-left: 0.5rem\">actor</span>\n",
              "</mark>\n",
              " higher ups to tranquillize the \n",
              "<mark class=\"entity\" style=\"background: red; padding: 0.45em 0.6em; margin: 0 0.25em; line-height: 1; border-radius: 0.35em; box-decoration-break: clone; -webkit-box-decoration-break: clone\">\n",
              "    tiger\n",
              "    <span style=\"font-size: 0.8em; font-weight: bold; line-height: 1; border-radius: 0.35em; text-transform: uppercase; vertical-align: middle; margin-left: 0.5rem\">actor</span>\n",
              "</mark>\n",
              ".A camp was also held at Saki Krishnapur under the leadership of shooter Nawab. The big cat dragged The \n",
              "<mark class=\"entity\" style=\"background: red; padding: 0.45em 0.6em; margin: 0 0.25em; line-height: 1; border-radius: 0.35em; box-decoration-break: clone; -webkit-box-decoration-break: clone\">\n",
              "    farmer\n",
              "    <span style=\"font-size: 0.8em; font-weight: bold; line-height: 1; border-radius: 0.35em; text-transform: uppercase; vertical-align: middle; margin-left: 0.5rem\">actor</span>\n",
              "</mark>\n",
              "'s body for about 700 metres, severing The farmer head in the process.In December last year, the \n",
              "<mark class=\"entity\" style=\"background: red; padding: 0.45em 0.6em; margin: 0 0.25em; line-height: 1; border-radius: 0.35em; box-decoration-break: clone; -webkit-box-decoration-break: clone\">\n",
              "    tiger\n",
              "    <span style=\"font-size: 0.8em; font-weight: bold; line-height: 1; border-radius: 0.35em; text-transform: uppercase; vertical-align: middle; margin-left: 0.5rem\">actor</span>\n",
              "</mark>\n",
              " had \n",
              "<mark class=\"entity\" style=\"background: blue; padding: 0.45em 0.6em; margin: 0 0.25em; line-height: 1; border-radius: 0.35em; box-decoration-break: clone; -webkit-box-decoration-break: clone\">\n",
              "    killed\n",
              "    <span style=\"font-size: 0.8em; font-weight: bold; line-height: 1; border-radius: 0.35em; text-transform: uppercase; vertical-align: middle; margin-left: 0.5rem\">action</span>\n",
              "</mark>\n",
              " Chandku Futki , 50, a resident of village Adan in Ralegaon. A sniffer dog was deployed to track the \n",
              "<mark class=\"entity\" style=\"background: red; padding: 0.45em 0.6em; margin: 0 0.25em; line-height: 1; border-radius: 0.35em; box-decoration-break: clone; -webkit-box-decoration-break: clone\">\n",
              "    tiger\n",
              "    <span style=\"font-size: 0.8em; font-weight: bold; line-height: 1; border-radius: 0.35em; text-transform: uppercase; vertical-align: middle; margin-left: 0.5rem\">actor</span>\n",
              "</mark>\n",
              ".</div>"
            ],
            "text/plain": [
              "<IPython.core.display.HTML object>"
            ]
          },
          "metadata": {
            "tags": []
          }
        },
        {
          "output_type": "stream",
          "text": [
            "Actor                                             |Number                                            |Action                                            \n",
            "--------------------------------------------------------------------------------------------------------------------------------------------------------\n",
            "Centre                                            |                                                  |expected to set                                   \n",
            "BADP                                              |                                                  |India                                             \n",
            "state government                                  |                                                  |                                                  \n",
            "China                                             |                                                  |                                                  \n",
            "India                                             |                                                  |                                                  \n",
            "China                                             |                                                  |                                                  \n",
            "China                                             |                                                  |                                                  \n",
            "China                                             |                                                  |                                                  \n",
            "China                                             |                                                  |                                                  \n"
          ],
          "name": "stdout"
        },
        {
          "output_type": "display_data",
          "data": {
            "text/html": [
              "<div class=\"entities\" style=\"line-height: 2.5; direction: ltr\">As part of efforts to improve security along the China border in Arunachal Pradesh, the \n",
              "<mark class=\"entity\" style=\"background: red; padding: 0.45em 0.6em; margin: 0 0.25em; line-height: 1; border-radius: 0.35em; box-decoration-break: clone; -webkit-box-decoration-break: clone\">\n",
              "    Centre\n",
              "    <span style=\"font-size: 0.8em; font-weight: bold; line-height: 1; border-radius: 0.35em; text-transform: uppercase; vertical-align: middle; margin-left: 0.5rem\">actor</span>\n",
              "</mark>\n",
              " is planning to create model villages to in those areas around which the locals would be settled, providing model villages better amenities. The initiative is being taken under the Border Area Development Plan (\n",
              "<mark class=\"entity\" style=\"background: red; padding: 0.45em 0.6em; margin: 0 0.25em; line-height: 1; border-radius: 0.35em; box-decoration-break: clone; -webkit-box-decoration-break: clone\">\n",
              "    BADP\n",
              "    <span style=\"font-size: 0.8em; font-weight: bold; line-height: 1; border-radius: 0.35em; text-transform: uppercase; vertical-align: middle; margin-left: 0.5rem\">actor</span>\n",
              "</mark>\n",
              ") where the security forces and the \n",
              "<mark class=\"entity\" style=\"background: red; padding: 0.45em 0.6em; margin: 0 0.25em; line-height: 1; border-radius: 0.35em; box-decoration-break: clone; -webkit-box-decoration-break: clone\">\n",
              "    state government\n",
              "    <span style=\"font-size: 0.8em; font-weight: bold; line-height: 1; border-radius: 0.35em; text-transform: uppercase; vertical-align: middle; margin-left: 0.5rem\">actor</span>\n",
              "</mark>\n",
              " are \n",
              "<mark class=\"entity\" style=\"background: blue; padding: 0.45em 0.6em; margin: 0 0.25em; line-height: 1; border-radius: 0.35em; box-decoration-break: clone; -webkit-box-decoration-break: clone\">\n",
              "    expected to set\n",
              "    <span style=\"font-size: 0.8em; font-weight: bold; line-height: 1; border-radius: 0.35em; text-transform: uppercase; vertical-align: middle; margin-left: 0.5rem\">action</span>\n",
              "</mark>\n",
              " up around 50 such villages with modern amenities such as health facilities and schooling for the locals, government sources told Mail Today. The aim is to develop villages and habitats where population is sparse and large stretches are barren in areas where both \n",
              "<mark class=\"entity\" style=\"background: red; padding: 0.45em 0.6em; margin: 0 0.25em; line-height: 1; border-radius: 0.35em; box-decoration-break: clone; -webkit-box-decoration-break: clone\">\n",
              "    China\n",
              "    <span style=\"font-size: 0.8em; font-weight: bold; line-height: 1; border-radius: 0.35em; text-transform: uppercase; vertical-align: middle; margin-left: 0.5rem\">actor</span>\n",
              "</mark>\n",
              " and \n",
              "<mark class=\"entity\" style=\"background: red; padding: 0.45em 0.6em; margin: 0 0.25em; line-height: 1; border-radius: 0.35em; box-decoration-break: clone; -webkit-box-decoration-break: clone\">\n",
              "    India\n",
              "    <span style=\"font-size: 0.8em; font-weight: bold; line-height: 1; border-radius: 0.35em; text-transform: uppercase; vertical-align: middle; margin-left: 0.5rem\">actor</span>\n",
              "</mark>\n",
              " have different perceptions about both \n",
              "<mark class=\"entity\" style=\"background: red; padding: 0.45em 0.6em; margin: 0 0.25em; line-height: 1; border-radius: 0.35em; box-decoration-break: clone; -webkit-box-decoration-break: clone\">\n",
              "    China\n",
              "    <span style=\"font-size: 0.8em; font-weight: bold; line-height: 1; border-radius: 0.35em; text-transform: uppercase; vertical-align: middle; margin-left: 0.5rem\">actor</span>\n",
              "</mark>\n",
              " and \n",
              "<mark class=\"entity\" style=\"background: blue; padding: 0.45em 0.6em; margin: 0 0.25em; line-height: 1; border-radius: 0.35em; box-decoration-break: clone; -webkit-box-decoration-break: clone\">\n",
              "    India\n",
              "    <span style=\"font-size: 0.8em; font-weight: bold; line-height: 1; border-radius: 0.35em; text-transform: uppercase; vertical-align: middle; margin-left: 0.5rem\">action</span>\n",
              "</mark>\n",
              " boundary. &quot;both \n",
              "<mark class=\"entity\" style=\"background: red; padding: 0.45em 0.6em; margin: 0 0.25em; line-height: 1; border-radius: 0.35em; box-decoration-break: clone; -webkit-box-decoration-break: clone\">\n",
              "    China\n",
              "    <span style=\"font-size: 0.8em; font-weight: bold; line-height: 1; border-radius: 0.35em; text-transform: uppercase; vertical-align: middle; margin-left: 0.5rem\">actor</span>\n",
              "</mark>\n",
              " and India also help \n",
              "<mark class=\"entity\" style=\"background: red; padding: 0.45em 0.6em; margin: 0 0.25em; line-height: 1; border-radius: 0.35em; box-decoration-break: clone; -webkit-box-decoration-break: clone\">\n",
              "    China\n",
              "    <span style=\"font-size: 0.8em; font-weight: bold; line-height: 1; border-radius: 0.35em; text-transform: uppercase; vertical-align: middle; margin-left: 0.5rem\">actor</span>\n",
              "</mark>\n",
              " in building up a security infrastructure where both \n",
              "<mark class=\"entity\" style=\"background: red; padding: 0.45em 0.6em; margin: 0 0.25em; line-height: 1; border-radius: 0.35em; box-decoration-break: clone; -webkit-box-decoration-break: clone\">\n",
              "    China\n",
              "    <span style=\"font-size: 0.8em; font-weight: bold; line-height: 1; border-radius: 0.35em; text-transform: uppercase; vertical-align: middle; margin-left: 0.5rem\">actor</span>\n",
              "</mark>\n",
              " and India can be the symbols of Indian authority in the areas close to the perceived boundaries,&quot; the sources said.</div>"
            ],
            "text/plain": [
              "<IPython.core.display.HTML object>"
            ]
          },
          "metadata": {
            "tags": []
          }
        }
      ]
    },
    {
      "cell_type": "markdown",
      "metadata": {
        "id": "e0v3aNyvECPO",
        "colab_type": "text"
      },
      "source": [
        "# Getting location and date entities"
      ]
    },
    {
      "cell_type": "code",
      "metadata": {
        "id": "dtf0w8TTM7ZB",
        "colab_type": "code",
        "colab": {}
      },
      "source": [
        ""
      ],
      "execution_count": 0,
      "outputs": []
    }
  ]
}